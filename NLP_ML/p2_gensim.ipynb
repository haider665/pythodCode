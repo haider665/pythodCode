{
 "cells": [
  {
   "cell_type": "code",
   "execution_count": 25,
   "metadata": {},
   "outputs": [],
   "source": [
    "import gensim\n",
    "from gensim.models import Word2Vec\n",
    "import nltk\n",
    "from nltk.tokenize import sent_tokenize\n",
    "\n",
    "from sklearn.decomposition import PCA\n",
    "from matplotlib import pyplot"
   ]
  },
  {
   "cell_type": "code",
   "execution_count": 15,
   "metadata": {},
   "outputs": [],
   "source": [
    "import docx\n",
    "doc = docx.Document('story1.docx')\n",
    "text = []\n",
    "for paragraph in doc.paragraphs:\n",
    "    text.append(paragraph.text)\n",
    "text = ''.join(text)    "
   ]
  },
  {
   "cell_type": "code",
   "execution_count": null,
   "metadata": {},
   "outputs": [],
   "source": []
  },
  {
   "cell_type": "code",
   "execution_count": 16,
   "metadata": {},
   "outputs": [
    {
     "name": "stdout",
     "output_type": "stream",
     "text": [
      "While Labor Day is the unofficial end of summer, it's also the unofficial start to the campaign season.That means politicking will be on the rise, especially as control of the Senate is at stake as well as control of 36 state houses. So, if you turn on your TV, expect to see more -- and nastier -- political advertisements. In fact, Elizabeth Wilner, senior vice president of Kantar Ad Intelligence, says as much as $3.4 billion is going to be spent on advertising this midterm season.The race with the most at stake is the one for U.S. Senate in Kentucky. This is not just one of the only Senate races Republicans are at risk of losing, but also the race where the top Senate Republican is at risk of losing his job.The Republican leader of the Senate, Mitch McConnell, is in a fight for his political life against Alison Lundergan Grimes, a relatively inexperienced Democratic politician who was just 8 years old when McConnell started his first term in the Senate in 1985.McConnell, a shrewd politician, prolific fundraiser and expert campaigner, has had numerous missteps, making this race even more interesting. His troubles include a flubbed campaign ad, a campaign manager who was a little too honest, the recent resignation of that manager and a caught-on-tape moment.Grimes, meanwhile, has also stumbled when talking about foreign policy, and questions have arisen about a possible sweetheart deal involving her campaign bus.This is one of the most interesting and critical races in the country.\n"
     ]
    }
   ],
   "source": [
    "print(text)"
   ]
  },
  {
   "cell_type": "code",
   "execution_count": 17,
   "metadata": {},
   "outputs": [],
   "source": [
    "sent_text = sent_tokenize(text)"
   ]
  },
  {
   "cell_type": "code",
   "execution_count": 19,
   "metadata": {},
   "outputs": [],
   "source": [
    "# Tokenize(split) the sentences into words\n",
    "word_text = [[text for text in sent_text.split()] for sent_text in sent_text]\n"
   ]
  },
  {
   "cell_type": "code",
   "execution_count": 20,
   "metadata": {},
   "outputs": [
    {
     "data": {
      "text/plain": [
       "[['While',\n",
       "  'Labor',\n",
       "  'Day',\n",
       "  'is',\n",
       "  'the',\n",
       "  'unofficial',\n",
       "  'end',\n",
       "  'of',\n",
       "  'summer,',\n",
       "  \"it's\",\n",
       "  'also',\n",
       "  'the',\n",
       "  'unofficial',\n",
       "  'start',\n",
       "  'to',\n",
       "  'the',\n",
       "  'campaign',\n",
       "  'season.That',\n",
       "  'means',\n",
       "  'politicking',\n",
       "  'will',\n",
       "  'be',\n",
       "  'on',\n",
       "  'the',\n",
       "  'rise,',\n",
       "  'especially',\n",
       "  'as',\n",
       "  'control',\n",
       "  'of',\n",
       "  'the',\n",
       "  'Senate',\n",
       "  'is',\n",
       "  'at',\n",
       "  'stake',\n",
       "  'as',\n",
       "  'well',\n",
       "  'as',\n",
       "  'control',\n",
       "  'of',\n",
       "  '36',\n",
       "  'state',\n",
       "  'houses.'],\n",
       " ['So,',\n",
       "  'if',\n",
       "  'you',\n",
       "  'turn',\n",
       "  'on',\n",
       "  'your',\n",
       "  'TV,',\n",
       "  'expect',\n",
       "  'to',\n",
       "  'see',\n",
       "  'more',\n",
       "  '--',\n",
       "  'and',\n",
       "  'nastier',\n",
       "  '--',\n",
       "  'political',\n",
       "  'advertisements.'],\n",
       " ['In',\n",
       "  'fact,',\n",
       "  'Elizabeth',\n",
       "  'Wilner,',\n",
       "  'senior',\n",
       "  'vice',\n",
       "  'president',\n",
       "  'of',\n",
       "  'Kantar',\n",
       "  'Ad',\n",
       "  'Intelligence,',\n",
       "  'says',\n",
       "  'as',\n",
       "  'much',\n",
       "  'as',\n",
       "  '$3.4',\n",
       "  'billion',\n",
       "  'is',\n",
       "  'going',\n",
       "  'to',\n",
       "  'be',\n",
       "  'spent',\n",
       "  'on',\n",
       "  'advertising',\n",
       "  'this',\n",
       "  'midterm',\n",
       "  'season.The',\n",
       "  'race',\n",
       "  'with',\n",
       "  'the',\n",
       "  'most',\n",
       "  'at',\n",
       "  'stake',\n",
       "  'is',\n",
       "  'the',\n",
       "  'one',\n",
       "  'for',\n",
       "  'U.S.',\n",
       "  'Senate',\n",
       "  'in',\n",
       "  'Kentucky.'],\n",
       " ['This',\n",
       "  'is',\n",
       "  'not',\n",
       "  'just',\n",
       "  'one',\n",
       "  'of',\n",
       "  'the',\n",
       "  'only',\n",
       "  'Senate',\n",
       "  'races',\n",
       "  'Republicans',\n",
       "  'are',\n",
       "  'at',\n",
       "  'risk',\n",
       "  'of',\n",
       "  'losing,',\n",
       "  'but',\n",
       "  'also',\n",
       "  'the',\n",
       "  'race',\n",
       "  'where',\n",
       "  'the',\n",
       "  'top',\n",
       "  'Senate',\n",
       "  'Republican',\n",
       "  'is',\n",
       "  'at',\n",
       "  'risk',\n",
       "  'of',\n",
       "  'losing',\n",
       "  'his',\n",
       "  'job.The',\n",
       "  'Republican',\n",
       "  'leader',\n",
       "  'of',\n",
       "  'the',\n",
       "  'Senate,',\n",
       "  'Mitch',\n",
       "  'McConnell,',\n",
       "  'is',\n",
       "  'in',\n",
       "  'a',\n",
       "  'fight',\n",
       "  'for',\n",
       "  'his',\n",
       "  'political',\n",
       "  'life',\n",
       "  'against',\n",
       "  'Alison',\n",
       "  'Lundergan',\n",
       "  'Grimes,',\n",
       "  'a',\n",
       "  'relatively',\n",
       "  'inexperienced',\n",
       "  'Democratic',\n",
       "  'politician',\n",
       "  'who',\n",
       "  'was',\n",
       "  'just',\n",
       "  '8',\n",
       "  'years',\n",
       "  'old',\n",
       "  'when',\n",
       "  'McConnell',\n",
       "  'started',\n",
       "  'his',\n",
       "  'first',\n",
       "  'term',\n",
       "  'in',\n",
       "  'the',\n",
       "  'Senate',\n",
       "  'in',\n",
       "  '1985.McConnell,',\n",
       "  'a',\n",
       "  'shrewd',\n",
       "  'politician,',\n",
       "  'prolific',\n",
       "  'fundraiser',\n",
       "  'and',\n",
       "  'expert',\n",
       "  'campaigner,',\n",
       "  'has',\n",
       "  'had',\n",
       "  'numerous',\n",
       "  'missteps,',\n",
       "  'making',\n",
       "  'this',\n",
       "  'race',\n",
       "  'even',\n",
       "  'more',\n",
       "  'interesting.'],\n",
       " ['His',\n",
       "  'troubles',\n",
       "  'include',\n",
       "  'a',\n",
       "  'flubbed',\n",
       "  'campaign',\n",
       "  'ad,',\n",
       "  'a',\n",
       "  'campaign',\n",
       "  'manager',\n",
       "  'who',\n",
       "  'was',\n",
       "  'a',\n",
       "  'little',\n",
       "  'too',\n",
       "  'honest,',\n",
       "  'the',\n",
       "  'recent',\n",
       "  'resignation',\n",
       "  'of',\n",
       "  'that',\n",
       "  'manager',\n",
       "  'and',\n",
       "  'a',\n",
       "  'caught-on-tape',\n",
       "  'moment.Grimes,',\n",
       "  'meanwhile,',\n",
       "  'has',\n",
       "  'also',\n",
       "  'stumbled',\n",
       "  'when',\n",
       "  'talking',\n",
       "  'about',\n",
       "  'foreign',\n",
       "  'policy,',\n",
       "  'and',\n",
       "  'questions',\n",
       "  'have',\n",
       "  'arisen',\n",
       "  'about',\n",
       "  'a',\n",
       "  'possible',\n",
       "  'sweetheart',\n",
       "  'deal',\n",
       "  'involving',\n",
       "  'her',\n",
       "  'campaign',\n",
       "  'bus.This',\n",
       "  'is',\n",
       "  'one',\n",
       "  'of',\n",
       "  'the',\n",
       "  'most',\n",
       "  'interesting',\n",
       "  'and',\n",
       "  'critical',\n",
       "  'races',\n",
       "  'in',\n",
       "  'the',\n",
       "  'country.']]"
      ]
     },
     "execution_count": 20,
     "metadata": {},
     "output_type": "execute_result"
    }
   ],
   "source": [
    "word_text"
   ]
  },
  {
   "cell_type": "code",
   "execution_count": 22,
   "metadata": {},
   "outputs": [],
   "source": [
    "model = Word2Vec(word_text, min_count=1)"
   ]
  },
  {
   "cell_type": "code",
   "execution_count": 23,
   "metadata": {},
   "outputs": [
    {
     "name": "stdout",
     "output_type": "stream",
     "text": [
      "['While', 'Labor', 'Day', 'is', 'the', 'unofficial', 'end', 'of', 'summer,', \"it's\", 'also', 'start', 'to', 'campaign', 'season.That', 'means', 'politicking', 'will', 'be', 'on', 'rise,', 'especially', 'as', 'control', 'Senate', 'at', 'stake', 'well', '36', 'state', 'houses.', 'So,', 'if', 'you', 'turn', 'your', 'TV,', 'expect', 'see', 'more', '--', 'and', 'nastier', 'political', 'advertisements.', 'In', 'fact,', 'Elizabeth', 'Wilner,', 'senior', 'vice', 'president', 'Kantar', 'Ad', 'Intelligence,', 'says', 'much', '$3.4', 'billion', 'going', 'spent', 'advertising', 'this', 'midterm', 'season.The', 'race', 'with', 'most', 'one', 'for', 'U.S.', 'in', 'Kentucky.', 'This', 'not', 'just', 'only', 'races', 'Republicans', 'are', 'risk', 'losing,', 'but', 'where', 'top', 'Republican', 'losing', 'his', 'job.The', 'leader', 'Senate,', 'Mitch', 'McConnell,', 'a', 'fight', 'life', 'against', 'Alison', 'Lundergan', 'Grimes,', 'relatively', 'inexperienced', 'Democratic', 'politician', 'who', 'was', '8', 'years', 'old', 'when', 'McConnell', 'started', 'first', 'term', '1985.McConnell,', 'shrewd', 'politician,', 'prolific', 'fundraiser', 'expert', 'campaigner,', 'has', 'had', 'numerous', 'missteps,', 'making', 'even', 'interesting.', 'His', 'troubles', 'include', 'flubbed', 'ad,', 'manager', 'little', 'too', 'honest,', 'recent', 'resignation', 'that', 'caught-on-tape', 'moment.Grimes,', 'meanwhile,', 'stumbled', 'talking', 'about', 'foreign', 'policy,', 'questions', 'have', 'arisen', 'possible', 'sweetheart', 'deal', 'involving', 'her', 'bus.This', 'interesting', 'critical', 'country.']\n"
     ]
    }
   ],
   "source": [
    "print(list(model.wv.vocab))"
   ]
  },
  {
   "cell_type": "code",
   "execution_count": 24,
   "metadata": {},
   "outputs": [],
   "source": [
    "model.save('model.bin')"
   ]
  },
  {
   "cell_type": "code",
   "execution_count": 26,
   "metadata": {},
   "outputs": [
    {
     "name": "stderr",
     "output_type": "stream",
     "text": [
      "C:\\Users\\Haider\\Anaconda3\\lib\\site-packages\\ipykernel_launcher.py:2: DeprecationWarning: Call to deprecated `__getitem__` (Method will be removed in 4.0.0, use self.wv.__getitem__() instead).\n",
      "  \n"
     ]
    },
    {
     "data": {
      "image/png": "[encoded data removed]",
      "text/plain": [
       "<Figure size 432x288 with 1 Axes>"
      ]
     },
     "metadata": {
      "needs_background": "light"
     },
     "output_type": "display_data"
    }
   ],
   "source": [
    "\n",
    "# fit a 2d PCA model to the vectors\n",
    "X = model[model.wv.vocab]\n",
    "pca = PCA(n_components=2)\n",
    "result = pca.fit_transform(X)\n",
    "# create a scatter plot of the projection\n",
    "pyplot.scatter(result[:, 0], result[:, 1])\n",
    "words = list(model.wv.vocab)\n",
    "for i, word in enumerate(words):\n",
    "    pyplot.annotate(word, xy=(result[i, 0], result[i, 1]))\n",
    "pyplot.show()"
   ]
  },
  {
   "cell_type": "code",
   "execution_count": 27,
   "metadata": {},
   "outputs": [
    {
     "name": "stdout",
     "output_type": "stream",
     "text": [
      "[ 1.90746825e-04 -3.24315298e-03  8.65199661e-04 -4.65938076e-03\n",
      "  1.03452876e-05  4.51342668e-03 -1.29584543e-04 -3.90595477e-03\n",
      " -7.67513935e-04  2.81555788e-03 -2.94687226e-03  1.23590464e-03\n",
      " -2.67795194e-03 -2.96570058e-03 -2.29436625e-03  1.38930464e-03\n",
      " -1.29379798e-03  3.23758274e-03 -2.09732633e-03 -3.03218770e-03\n",
      " -1.73784239e-04  2.48856866e-03 -8.82992579e-04 -1.41982362e-03\n",
      "  4.87834634e-03  3.02469381e-03 -3.25092697e-05  8.97264836e-05\n",
      "  1.64743897e-03 -4.67915274e-03  3.14930221e-04 -2.66643148e-03\n",
      " -1.16532785e-03  4.64198831e-03 -4.55797743e-03 -1.66505959e-03\n",
      " -1.41585351e-03  1.49267050e-03  1.49881328e-03  1.65657047e-03\n",
      "  4.26740199e-03 -3.62392841e-03 -5.12270897e-04 -3.75866517e-03\n",
      " -4.05161688e-03 -3.63882608e-03  6.38694735e-04  1.93018839e-03\n",
      " -3.40933655e-03  2.91059585e-03  4.92762914e-03 -1.18519133e-03\n",
      "  3.75425187e-03 -3.13054118e-03  4.59842989e-03  3.72342253e-03\n",
      " -2.81402655e-03  2.91750696e-03 -2.43111583e-03 -4.76850988e-03\n",
      " -4.92900331e-03 -3.98270739e-03 -4.53673908e-03 -1.19835015e-04\n",
      "  5.81800879e-04  7.73843320e-04 -1.01654651e-03  3.29629355e-03\n",
      "  4.66273027e-03 -3.35133821e-03 -3.20546725e-03 -1.32410962e-03\n",
      " -1.89637532e-03 -3.61338747e-03  4.93613118e-03  4.12057743e-05\n",
      "  2.63816048e-03  2.18735402e-03 -2.65997672e-03 -4.67958534e-03\n",
      " -1.95616251e-03 -4.45109839e-03  2.14213855e-03  4.13563946e-04\n",
      " -1.48614869e-03  8.26021947e-04  3.97148263e-03 -3.00235988e-04\n",
      "  2.31247753e-07 -2.61443271e-03  3.70247453e-03 -4.77531087e-03\n",
      " -1.07507408e-03  9.35588090e-04  4.75564227e-03  1.94002874e-03\n",
      "  4.44599474e-03  2.99110147e-03  1.08190160e-03  2.52339896e-03]\n"
     ]
    },
    {
     "name": "stderr",
     "output_type": "stream",
     "text": [
      "C:\\Users\\Haider\\Anaconda3\\lib\\site-packages\\ipykernel_launcher.py:1: DeprecationWarning: Call to deprecated `__getitem__` (Method will be removed in 4.0.0, use self.wv.__getitem__() instead).\n",
      "  \"\"\"Entry point for launching an IPython kernel.\n"
     ]
    }
   ],
   "source": [
    "print(model['control'])"
   ]
  },
  {
   "cell_type": "code",
   "execution_count": null,
   "metadata": {},
   "outputs": [],
   "source": []
  },
  {
   "cell_type": "code",
   "execution_count": null,
   "metadata": {},
   "outputs": [],
   "source": []
  },
  {
   "cell_type": "code",
   "execution_count": null,
   "metadata": {},
   "outputs": [],
   "source": []
  },
  {
   "cell_type": "code",
   "execution_count": null,
   "metadata": {},
   "outputs": [],
   "source": []
  },
  {
   "cell_type": "code",
   "execution_count": null,
   "metadata": {},
   "outputs": [],
   "source": []
  },
  {
   "cell_type": "code",
   "execution_count": null,
   "metadata": {},
   "outputs": [],
   "source": []
  },
  {
   "cell_type": "code",
   "execution_count": null,
   "metadata": {},
   "outputs": [],
   "source": []
  },
  {
   "cell_type": "code",
   "execution_count": null,
   "metadata": {},
   "outputs": [],
   "source": []
  },
  {
   "cell_type": "code",
   "execution_count": null,
   "metadata": {},
   "outputs": [],
   "source": []
  },
  {
   "cell_type": "code",
   "execution_count": null,
   "metadata": {},
   "outputs": [],
   "source": []
  },
  {
   "cell_type": "code",
   "execution_count": null,
   "metadata": {},
   "outputs": [],
   "source": []
  },
  {
   "cell_type": "code",
   "execution_count": null,
   "metadata": {},
   "outputs": [],
   "source": []
  },
  {
   "cell_type": "code",
   "execution_count": null,
   "metadata": {},
   "outputs": [],
   "source": []
  },
  {
   "cell_type": "code",
   "execution_count": null,
   "metadata": {},
   "outputs": [],
   "source": []
  }
 ],
 "metadata": {
  "kernelspec": {
   "display_name": "Python 3",
   "language": "python",
   "name": "python3"
  },
  "language_info": {
   "codemirror_mode": {
    "name": "ipython",
    "version": 3
   },
   "file_extension": ".py",
   "mimetype": "text/x-python",
   "name": "python",
   "nbconvert_exporter": "python",
   "pygments_lexer": "ipython3",
   "version": "3.7.3"
  }
 },
 "nbformat": 4,
 "nbformat_minor": 2
}
