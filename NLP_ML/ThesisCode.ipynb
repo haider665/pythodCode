{
 "cells": [
  {
   "cell_type": "code",
   "execution_count": null,
   "metadata": {},
   "outputs": [],
   "source": []
  },
  {
   "cell_type": "code",
   "execution_count": 1,
   "metadata": {},
   "outputs": [],
   "source": [
    "import nltk\n",
    "from nltk.stem import WordNetLemmatizer\n",
    "from nltk.corpus import stopwords\n",
    "from nltk.tokenize import sent_tokenize,word_tokenize\n",
    "from nltk.translate.bleu_score import sentence_bleu\n",
    "from nltk.corpus import wordnet as wn\n",
    "import re\n",
    "from gensim.models import Word2Vec\n",
    "from sklearn.cluster import KMeans\n",
    "from sklearn import cluster\n",
    "from sklearn import metrics\n",
    "import matplotlib.pyplot as plt\n",
    "import numpy as np\n",
    "import docx\n",
    "\n",
    "Stopwords = set(stopwords.words('english'))\n",
    "wordlemmatizer = WordNetLemmatizer()"
   ]
  },
  {
   "cell_type": "code",
   "execution_count": null,
   "metadata": {},
   "outputs": [],
   "source": []
  },
  {
   "cell_type": "code",
   "execution_count": null,
   "metadata": {},
   "outputs": [],
   "source": []
  },
  {
   "cell_type": "code",
   "execution_count": null,
   "metadata": {},
   "outputs": [],
   "source": []
  },
  {
   "cell_type": "code",
   "execution_count": null,
   "metadata": {},
   "outputs": [],
   "source": []
  },
  {
   "cell_type": "code",
   "execution_count": 2,
   "metadata": {},
   "outputs": [],
   "source": [
    "def lemmatize_words(words): # used\n",
    "    lemmatized_words = []\n",
    "    for word in words:\n",
    "        tempList = []\n",
    "        for word2 in word:\n",
    "            tempList.append(wordlemmatizer.lemmatize(word2))\n",
    "        lemmatized_words.append(tempList)\n",
    "    return lemmatized_words\n",
    "\n",
    "def uniqueWord(w): # used \n",
    "    w2=[]\n",
    "    for word in w:\n",
    "        tempList=[]\n",
    "        for word2 in word:\n",
    "            if tempList.count(word2)<1:\n",
    "                    tempList.append(word2)\n",
    "        w2.append(tempList)\n",
    "    return w2\n",
    "\n",
    "def stem_words(words):\n",
    "    stemmed_words = []\n",
    "    for word in words:\n",
    "       stemmed_words.append(stemmer.stem(word))\n",
    "    return stemmed_words\n",
    "def remove_special_characters(text): # used\n",
    "    regex = r'[^a-zA-Z0-9\\s]'\n",
    "    text = re.sub(regex,'',text)\n",
    "    return text\n",
    "def freq(words):\n",
    "    words = [word.lower() for word in words]\n",
    "    dict_freq = {}\n",
    "    words_unique = []\n",
    "    for word in words:\n",
    "       if word not in words_unique:\n",
    "           words_unique.append(word)\n",
    "    for word in words_unique:\n",
    "       dict_freq[word] = words.count(word)\n",
    "    return dict_freq\n",
    "def pos_tagging(text):\n",
    "    pos_tag = nltk.pos_tag(text.split())\n",
    "    pos_tagged_noun_verb = []\n",
    "    for word,tag in pos_tag:\n",
    "        if tag == \"NN\" or tag == \"NNP\" or tag == \"NNS\" or tag == \"VB\" or tag == \"VBD\" or tag == \"VBG\" or tag == \"VBN\" or tag == \"VBP\" or tag == \"VBZ\":\n",
    "             pos_tagged_noun_verb.append(word)\n",
    "    return pos_tagged_noun_verb\n",
    "\n",
    "def removeStopWord(word_text):  # used\n",
    "    filtered_sentence = [] \n",
    "    stop_words = set(stopwords.words('english'))   \n",
    "    for w in word_text:\n",
    "        tempList=[]\n",
    "        for x in w:\n",
    "            if x.lower() not in stop_words: \n",
    "                tempList.append(x)\n",
    "        filtered_sentence.append(tempList)\n",
    "    return filtered_sentence   \n",
    " \n",
    "def meanOfWord(model, sentence): # used\n",
    "#     posValue=nltk.pos_tag(sentence)\n",
    "    posList=['CD']\n",
    "    nounList=['NN','NNP','NNS','NNPS']\n",
    "    value=[]\n",
    "    count=0\n",
    "    noun=0\n",
    "    for word in sentence:\n",
    "        a=model.similar_by_word(word)\n",
    "        temp=[]\n",
    "        for w in a:\n",
    "            temp.append(w[1])\n",
    "        posValue=nltk.pos_tag([word])\n",
    "#         print(posValue)\n",
    "        wordScore=np.mean(temp)\n",
    "        if posValue[0][1] in posList:\n",
    "            count=count+1\n",
    "        else:\n",
    "            valueIfNum=checkNum(word)\n",
    "            count=count+valueIfNum\n",
    "        if posValue[0][1] in nounList:\n",
    "            noun=noun + .25\n",
    "        value.append(wordScore)\n",
    "    return np.mean(value)+count+noun\n",
    "\n",
    "        \n",
    "def checkSimilarity(originalSummary,machineSummary): # used\n",
    "    ref = [originalSummary.split()]\n",
    "    can = machineSummary.split()\n",
    "    score = sentence_bleu(ref, can, weights=(0,0,0,0))\n",
    "    \n",
    "    s1= sentence_bleu(ref, can, weights=(1, 0, 0, 0))\n",
    "    s2=sentence_bleu(ref, can, weights=(0.5, 0.5, 0, 0))\n",
    "    s3=sentence_bleu(ref, can, weights=(0.33, 0.33, 0.33, 0))\n",
    "    s4=sentence_bleu(ref, can, weights=(0.25, 0.25, 0.25, 0.25))\n",
    "#     print(score)\n",
    "#     print('Cumulative 1-gram: %f' % s1)\n",
    "#     print('Cumulative 2-gram: %f' % s2)\n",
    "#     print('Cumulative 3-gram: %f' % s3)\n",
    "#     print('Cumulative 4-gram: %f' % s4)\n",
    "    mean= np.mean([s1,s2,s3,s4])\n",
    "    return [mean,[s1,s2,s3,s4]]\n",
    "    \n",
    "def checkNum(s):\n",
    "    l= ['1','2','3','4','5','6','7','8','9','0']\n",
    "    check =False\n",
    "\n",
    "    for i in s:\n",
    "        if i in l:\n",
    "            check = True\n",
    "            break\n",
    "    if check == True:\n",
    "        return 1\n",
    "    else:\n",
    "        return 0\n",
    "    \n",
    "def summaryEvaluate(sentences, newScore, originalSummary):\n",
    "    numOfSentence =round(len(sentences)/3)\n",
    "    mySummary = ''\n",
    "    for i in range (0, numOfSentence ):\n",
    "    #     st.join(sentences[i])\n",
    "        mySummary=mySummary+sentences[newScore[i][0]]+' '\n",
    "    c1=checkSimilarity(originalSummary,mySummary)\n",
    "    numOfSentence2 =round(len(sentences)/3)+1\n",
    "    mySummary2 = ''\n",
    "    for i in range (0, numOfSentence2 ):\n",
    "        mySummary2=mySummary2+sentences[newScore[i][0]]+' '\n",
    "    c2=checkSimilarity(originalSummary,mySummary2)\n",
    "    if c1[0]>c2[0]:\n",
    "        print('Cumulative 1-gram: %f' % c1[1][0])\n",
    "        print('Cumulative 2-gram: %f' % c1[1][1])\n",
    "        print('Cumulative 3-gram: %f' % c1[1][2])\n",
    "        print('Cumulative 4-gram: %f' % c1[1][3])\n",
    "        print('cumulative: ',str(c1[0]))\n",
    "        print(mySummary)  \n",
    "        print('---------------------------------------')\n",
    "        print('line of my summary: '+ str(numOfSentence))\n",
    "        print('---------------------------------------')\n",
    "        \n",
    "    else: \n",
    "        print('Cumulative 1-gram: %f' % c2[1][0])\n",
    "        print('Cumulative 2-gram: %f' % c2[1][1])\n",
    "        print('Cumulative 3-gram: %f' % c2[1][2])\n",
    "        print('Cumulative 4-gram: %f' % c2[1][3])\n",
    "        print('cumulative: ',str(c2[0]))\n",
    "        print(mySummary2)  \n",
    "        print('---------------------------------------')\n",
    "        print('line of my summary: '+ str(numOfSentence2))\n",
    "        print('---------------------------------------')\n",
    "    \n",
    "    print(originalSummary)\n",
    "    print('---------------------------------------')\n",
    "    print('line of original summary: '+str(len(sent_tokenize(originalSummary))))\n",
    "    print('---------------------------------------')\n",
    "    print('text line: '+str(len(sentences)))\n"
   ]
  },
  {
   "cell_type": "code",
   "execution_count": null,
   "metadata": {},
   "outputs": [],
   "source": []
  },
  {
   "cell_type": "code",
   "execution_count": 10,
   "metadata": {},
   "outputs": [],
   "source": [
    "# text = \"Thank you for keeping keeping me updated on this issue. I'm happy to hear that the issue got resolved after all and you can now use the app in its full functionality again. Also many thanks for your suggestions. We hope to improve this feature in the future. In case you experience any further problems with the app, please don't hesitate to contact me again.\"\n",
    "# text = \"The Daman and Diu administration on Wednesday withdrew a circular that asked women staff to tie rakhis on male colleagues after the order triggered a backlash from employees and was ripped apart on social media.The union territory’s administration was forced to retreat within 24 hours of issuing the circular that made it compulsory for its staff to celebrate Rakshabandhan at workplace. It has been decided to celebrate the festival of Rakshabandhan on August 7. In this connection, all offices/ departments shall remain open and celebrate the festival collectively at a suitable time wherein all the lady staff shall tie rakhis to their colleagues, the order, issued on August 1 by Gurpreet Singh, deputy secretary (personnel), had said.To ensure that no one skipped office, an attendance report was to be sent to the government the next evening.The two notifications one mandating the celebration of Rakshabandhan (left)and the other withdrawing the mandate (right) were issued by the Daman and Diu administration a day apart. The circular was withdrawn through a one-line order issued late in the evening by the UT’s department of personnel and administrative reforms. The circular is ridiculous. There are sensitivities involved. How can the government dictate who I should tie rakhi to we should maintain the professionalism of a workplace an official told Hindustan Times earlier in the day. She refused to be identified. The notice was issued on Daman and Diu administrator and former Gujarat home minister Praful Kodabhai Patel’s direction, sources said.Rakshabandhan, a celebration of the bond between brothers and sisters, is one of several Hindu festivities and rituals that are no longer confined of private, family affairs but have become tools to push politic al ideologies.In 2014, the year BJP stormed to power at the Centre, Rashtriya Swayamsevak Sangh (RSS) chief Mohan Bhagwat said the festival had ?national significance and should be celebrated widely to protect Hindu culture and live by the values enshrined in it. The RSS is the ideological parent of the ruling BJP. Last year, women ministers in the Modi government went to the border areas to celebrate the festival with soldiers. A year before, all cabinet ministers were asked to go to their constituencies for the festival.\"\n",
    "# text=\"At least 162 passengers and 11 crew members have reported being ill on board Princess Cruises\\' Caribbean Princess, according to the Centers for Disease Control and Prevention. The institute said health officers would board the ship in Houston to investigate the gastrointestinal illness, which is causing vomiting and diarrhea. The news follows reports of sickness this week on another cruise ship, this one from the Royal Caribbean line. Nearly 700 crew and passengers fell ill aboard the Royal Caribbean's Explorer of the Seas, the highest number of sick people reported on any cruise ship in two decades, CDC data show. That ship returned home Wednesday, two days earlier than expected. To compare the cruises, 5.22% of passengers on the Caribbean Princess reported being ill, versus 20.5% on the Explorer of the Seas. The outbreak on board the Caribbean Princess has been confirmed as norovirus, according to Julie Benson, a spokeswoman for Princess Cruises. Are cruise ships floating petri dishes? Noroviruses spread easily and are a common cause of gastroenteritis, which produces vomiting and diarrhea. Norovirus is also suspected on board the Explorer of the Seas, though the cause of the illness there has not been confirmed. Caribbean Princess is expected in Houston early Friday. The seven-day cruise is being cut short by one day. Sick passengers are being asked to stay in their cabins, while staff disinfect public areas such as restrooms and elevators. The decision to cut the trip short was made based on forecasts for heavy fog, not the outbreak, Benson said. CNN first learned of the stricken Princess ship from a Twitter post by the Houston Chronicle. Royal Caribbean cruise ship returns home - with a sickness record CNN's Miriam Falco contributed to this report.\"\n",
    "\n",
    "doc = docx.Document('C:/Users/Haider/Article/Entertainment/231.docx')\n",
    "text = []\n",
    "for paragraph in doc.paragraphs:\n",
    "    text.append(paragraph.text)\n",
    "text = ' '.join(text)  \n",
    "\n",
    "doc = docx.Document('C:/Users/Haider/Article/Entertainment/Entertainment_summary/231.docx')\n",
    "originalSummary = []\n",
    "for paragraph in doc.paragraphs:\n",
    "    originalSummary.append(paragraph.text)\n",
    "originalSummary = ' '.join(originalSummary)  \n",
    "\n",
    "sentences = sent_tokenize(text) # 1: sent tokenize\n",
    "text_noSpecial_character = remove_special_characters(str(text)) # 2: remove special character:\n",
    "# text_noSpecial_character = re.sub(r'\\d+', '', text_noSpecial_character)\n",
    "word_text = [[text_noSpecial_character for text_noSpecial_character in sentences.split()] for sentences in sentences] # 3: word token\n",
    "stop_text= removeStopWord(word_text) # 4: remove stop words\n",
    "unique_text= uniqueWord(stop_text)   # 5: remove duplicate words\n",
    "lemma_text = lemmatize_words(unique_text) # 6: lemmatization\n",
    "\n",
    "# there may be an issue about the unique word. i have to check which gives better accuracy\n",
    "# kmean cluster using full sentence or kmean cluster usnig unique words in sentence\n"
   ]
  },
  {
   "cell_type": "code",
   "execution_count": null,
   "metadata": {},
   "outputs": [],
   "source": []
  },
  {
   "cell_type": "code",
   "execution_count": null,
   "metadata": {},
   "outputs": [],
   "source": []
  },
  {
   "cell_type": "code",
   "execution_count": 11,
   "metadata": {},
   "outputs": [
    {
     "name": "stderr",
     "output_type": "stream",
     "text": [
      "C:\\Users\\Haider\\Anaconda3\\lib\\site-packages\\ipykernel_launcher.py:8: DeprecationWarning: Call to deprecated `__getitem__` (Method will be removed in 4.0.0, use self.wv.__getitem__() instead).\n",
      "  \n",
      "C:\\Users\\Haider\\Anaconda3\\lib\\site-packages\\ipykernel_launcher.py:10: DeprecationWarning: Call to deprecated `__getitem__` (Method will be removed in 4.0.0, use self.wv.__getitem__() instead).\n",
      "  # Remove the CWD from sys.path while we load stuff.\n"
     ]
    }
   ],
   "source": [
    "model = Word2Vec(lemma_text, min_count=1,sg=1)\n",
    "def vectorizer(sent,m):\n",
    "    vec=[]\n",
    "    numw=0\n",
    "    for w in sent:\n",
    "        try:\n",
    "            if numw==0:\n",
    "                vec=m[w]\n",
    "            else:\n",
    "                vec=np.add(vec,m[w])\n",
    "            numw+=1;\n",
    "        except:\n",
    "            pass\n",
    "    return np.asarray(vec)/numw\n",
    "    \n",
    "l=[]\n",
    "for i in lemma_text:\n",
    "    l.append(vectorizer(i,model))\n",
    "#     print(vectorizer(i,model))\n",
    "\n",
    "x= np.array(l)\n"
   ]
  },
  {
   "cell_type": "code",
   "execution_count": null,
   "metadata": {},
   "outputs": [],
   "source": []
  },
  {
   "cell_type": "code",
   "execution_count": 14,
   "metadata": {},
   "outputs": [
    {
     "data": {
      "text/plain": [
       "<matplotlib.lines.Line2D at 0x1d251af9390>"
      ]
     },
     "execution_count": 14,
     "metadata": {},
     "output_type": "execute_result"
    },
    {
     "data": {
      "image/png": "[encoded data removed]",
      "text/plain": [
       "<Figure size 432x288 with 1 Axes>"
      ]
     },
     "metadata": {
      "needs_background": "light"
     },
     "output_type": "display_data"
    }
   ],
   "source": [
    "wcss=[]\n",
    "for i in range(1,5):\n",
    "    kmeans = KMeans(n_clusters=i,init='k-means++',random_state=42)\n",
    "    kmeans.fit(x)\n",
    "    wcss.append(kmeans.inertia_)\n",
    "plt.plot(range(1,5),wcss)\n",
    "plt.ylabel('Distortion')\n",
    "plt.title('The Elbow Method showing the optimal k')\n",
    "plt.axvline(x=2,color='red',linestyle='--',linewidth=.5)"
   ]
  },
  {
   "cell_type": "code",
   "execution_count": null,
   "metadata": {},
   "outputs": [],
   "source": []
  },
  {
   "cell_type": "code",
   "execution_count": 23,
   "metadata": {
    "scrolled": true
   },
   "outputs": [
    {
     "name": "stdout",
     "output_type": "stream",
     "text": [
      "[0 0 0 1 0 0 0 0 0 0 0 0 0 0 0 0 0 0]\n",
      "<class 'numpy.ndarray'>\n",
      "0:['late', 'John', \"Peel's\", 'BBC', 'Radio', '1', 'show', 'succeeded', 'February', 'three', 'show', 'hosted', 'DJs', 'focusing', 'diverse,', 'non-commercial', 'music.']4.696832823315088\n",
      "0:['Huw', 'Stephens,', 'Ras', 'Kwame', 'Rob', 'Da', 'Bank', 'host', 'mid-week,', 'late-night', 'timeslot,', 'showcasing', 'UK', 'talent.']3.198367467629058\n",
      "0:['Radio', '1', 'said', 'show', 'would', 'try', 'replace', 'Peel,', 'rise', '\"challenge\"', '\"keeping', 'legacy', 'alive\"', 'unpredictable', 'music.']3.450805790225665\n",
      "0:['Radio', '1', 'said', 'three', 'DJs', 'chosen', '\"in-depth', 'musical', 'knowledge', 'across', 'variety', 'genres\".']3.9505400829017163\n",
      "0:['Rob', 'Da', 'Bank', 'hosting', 'John', 'Peel', 'Show', 'since', \"DJ's\", 'death.']2.201145216226578\n",
      "0:['also', 'one', 'host', 'Blue', 'Room,', 'early', 'morning', 'weekend', 'show', 'play', 'mix', 'old', 'new', 'electronic', 'dance', 'music.']3.706158836837858\n",
      "0:['Huw', 'Stephens', 'currently', 'one', 'half', 'Radio', '1', 'Thursday', 'night', 'show', 'Bethan', 'Wales,', 'explores', 'new', 'music,', 'especially', 'coming', 'act', 'breaking', 'Wales.']5.454301299601793\n",
      "0:['Ras', 'Kwame', 'host', '100%', 'Homegrown', 'Radio', \"1's\", 'digital', 'station', '1Xtra.']4.946077573746443\n",
      "0:['show', 'dedicated', 'showcasing', 'best', 'UK', 'black', 'music', 'broadcast', 'live', 'sessions,', 'often', 'giving', 'new', 'artist', 'first', 'chance', 'perform', 'national', 'radio.']2.4521164536476134"
     ]
    },
    {
     "name": "stderr",
     "output_type": "stream",
     "text": [
      "C:\\Users\\Haider\\Anaconda3\\lib\\site-packages\\ipykernel_launcher.py:66: DeprecationWarning: Call to deprecated `similar_by_word` (Method will be removed in 4.0.0, use self.wv.similar_by_word() instead).\n"
     ]
    },
    {
     "name": "stdout",
     "output_type": "stream",
     "text": [
      "\n",
      "0:['three', 'DJs', 'continue', 'host', 'current', 'show', 'Radio', '1.']3.4603241270408036\n",
      "0:['\"It', 'widely', 'accepted', 'John', 'Peel', 'never', 'replaced,\"', 'said', 'radio', 'station.']1.7022139669954777\n",
      "0:['added', 'One', 'Music', 'would', 'support', 'signed', 'unsigned', 'talent,', 'said:', '\"It', 'seek', 'making', 'music', \"music's\", 'sake', 'rather', 'commercial', 'success.']3.4526174617310366\n",
      "0:['\"Above', 'provide', 'support', 'emerging', 'genre', 'music', 'style', 'yet', 'may', 'never', 'reach', 'mainstream.\"']1.967301980033517\n",
      "0:['One', 'Music', 'new', 'Radio', '1', 'already', 'exists', 'website,', 'offering', 'advice', 'aspect', 'music', 'industry,', 'recording', 'demo', 'signing', 'record', 'contract.']5.206655148333973\n",
      "0:['Radio', \"1's\", 'controller,', 'Andy', 'Parfitt,', 'said:', '\"We', 'believe', 'series', 'DJs', 'hosting', 'selection', 'show', 'One', 'Music', 'title,', 'ensure', 'legacy', 'life', 'on.\"']5.697811928242444\n",
      "0:['Stephens', 'said', 'grew', '\"listening', 'John\"', '\"massive', 'honour\"', 'continue', \"Peel's\", 'work', 'championing', 'new', 'music.']1.9574726437146848\n",
      "0:['show', 'broadcast', '1', 'February', 'Tuesdays,', 'Wednesdays', 'Thursdays', '2300', 'GMT', '-', '0100', 'GMT.']5.2083257457862295\n",
      "[[0, 4.696832823315088], [1, 3.198367467629058], [2, 3.450805790225665], [4, 3.9505400829017163], [5, 2.201145216226578], [6, 3.706158836837858], [7, 5.454301299601793], [8, 4.946077573746443], [9, 2.4521164536476134], [10, 3.4603241270408036], [11, 1.7022139669954777], [12, 3.4526174617310366], [13, 1.967301980033517], [14, 5.206655148333973], [15, 5.697811928242444], [16, 1.9574726437146848], [17, 5.2083257457862295]]\n"
     ]
    }
   ],
   "source": [
    "n_cluster=2\n",
    "kmeans= KMeans(n_clusters=n_cluster)\n",
    "labels=kmeans.fit_predict(x)\n",
    "print(labels)\n",
    "print(type(labels))\n",
    "labelList= labels.tolist()\n",
    "max = 0\n",
    "res = labelList[0] # cluster with maximum frequency\n",
    "for i in labelList: \n",
    "    freq = labelList.count(i) \n",
    "    if freq > max: \n",
    "        max = freq \n",
    "        res = i \n",
    "# print(res)        \n",
    "score=[]\n",
    "for index, sentence in enumerate(lemma_text):\n",
    "    i = lemma_text.index(sentence)\n",
    "    if labels[index] == res:  \n",
    "        meanScore= meanOfWord(model,sentence)\n",
    "        print(str(labels[index])+ \":\"+ str(sentence)+ str(meanScore) )\n",
    "        temp = [i,meanScore]\n",
    "        score.append(temp)\n",
    "#     print(meanOfWord(model,sentence))\n",
    "print(score)"
   ]
  },
  {
   "cell_type": "code",
   "execution_count": null,
   "metadata": {},
   "outputs": [],
   "source": []
  },
  {
   "cell_type": "code",
   "execution_count": null,
   "metadata": {},
   "outputs": [],
   "source": []
  },
  {
   "cell_type": "code",
   "execution_count": null,
   "metadata": {},
   "outputs": [],
   "source": []
  },
  {
   "cell_type": "code",
   "execution_count": null,
   "metadata": {},
   "outputs": [],
   "source": []
  },
  {
   "cell_type": "code",
   "execution_count": 24,
   "metadata": {},
   "outputs": [
    {
     "data": {
      "text/plain": [
       "[[15, 5.697811928242444],\n",
       " [7, 5.454301299601793],\n",
       " [17, 5.2083257457862295],\n",
       " [14, 5.206655148333973],\n",
       " [8, 4.946077573746443],\n",
       " [0, 4.696832823315088],\n",
       " [4, 3.9505400829017163],\n",
       " [6, 3.706158836837858],\n",
       " [10, 3.4603241270408036],\n",
       " [12, 3.4526174617310366],\n",
       " [2, 3.450805790225665],\n",
       " [1, 3.198367467629058],\n",
       " [9, 2.4521164536476134],\n",
       " [5, 2.201145216226578],\n",
       " [13, 1.967301980033517],\n",
       " [16, 1.9574726437146848],\n",
       " [11, 1.7022139669954777]]"
      ]
     },
     "execution_count": 24,
     "metadata": {},
     "output_type": "execute_result"
    }
   ],
   "source": [
    "score.sort(key=lambda x:x[1],reverse=True)\n",
    "score"
   ]
  },
  {
   "cell_type": "code",
   "execution_count": null,
   "metadata": {},
   "outputs": [],
   "source": []
  },
  {
   "cell_type": "code",
   "execution_count": null,
   "metadata": {},
   "outputs": [],
   "source": []
  },
  {
   "cell_type": "code",
   "execution_count": null,
   "metadata": {},
   "outputs": [],
   "source": []
  },
  {
   "cell_type": "code",
   "execution_count": 25,
   "metadata": {},
   "outputs": [
    {
     "name": "stdout",
     "output_type": "stream",
     "text": [
      "[[15, 5.697811928242444], [7, 5.454301299601793], [17, 5.2083257457862295], [14, 5.206655148333973], [8, 4.946077573746443], [0, 4.696832823315088], [4, 3.9505400829017163]]\n"
     ]
    },
    {
     "data": {
      "text/plain": [
       "[[0, 4.696832823315088],\n",
       " [4, 3.9505400829017163],\n",
       " [7, 5.454301299601793],\n",
       " [8, 4.946077573746443],\n",
       " [14, 5.206655148333973],\n",
       " [15, 5.697811928242444],\n",
       " [17, 5.2083257457862295]]"
      ]
     },
     "execution_count": 25,
     "metadata": {},
     "output_type": "execute_result"
    }
   ],
   "source": [
    "newScore =[]\n",
    "length=round(len(sentences)/3)+1\n",
    "for i in range(0,length):\n",
    "    if i == len(score):\n",
    "        break\n",
    "    newScore.append(score[i])\n",
    "print(newScore)\n",
    "newScore.sort()\n",
    "newScore"
   ]
  },
  {
   "cell_type": "code",
   "execution_count": null,
   "metadata": {},
   "outputs": [],
   "source": []
  },
  {
   "cell_type": "code",
   "execution_count": null,
   "metadata": {},
   "outputs": [],
   "source": []
  },
  {
   "cell_type": "code",
   "execution_count": null,
   "metadata": {},
   "outputs": [],
   "source": []
  },
  {
   "cell_type": "code",
   "execution_count": 22,
   "metadata": {},
   "outputs": [
    {
     "name": "stdout",
     "output_type": "stream",
     "text": [
      "Cumulative 1-gram: 0.667645\n",
      "Cumulative 2-gram: 0.627573\n",
      "Cumulative 3-gram: 0.606038\n",
      "Cumulative 4-gram: 0.585590\n",
      "cumulative:  0.6217114627158706\n",
      "The late John Peel's BBC Radio 1 show is to be succeeded in February by three shows hosted by three DJs focusing on diverse, non-commercial music. Radio 1 said the three DJs had been chosen for their \"in-depth musical knowledge across a variety of musical genres\". Huw Stephens is currently one half of the Radio 1 Thursday night show Bethan and Huw in Wales, which explores new music, especially up and coming acts breaking through in Wales. And Ras Kwame is the host of 100% Homegrown on Radio 1's digital station 1Xtra. One Music is not new to Radio 1 as it already exists as a website, offering advice on aspects of the music industry, such as recording a demo and signing a record contract. Radio 1's controller, Andy Parfitt, said: \"We believe that by having a series of DJs hosting a selection of shows under the One Music title, we will ensure that his legacy lives on.\" The show will be broadcast from 1 February on Tuesdays, Wednesdays and Thursdays from 2300 GMT - 0100 GMT. \n",
      "---------------------------------------\n",
      "line of my summary: 7\n",
      "---------------------------------------\n",
      "The late John Peel's BBC Radio 1 show is to be succeeded in February by three shows hosted by three DJs focusing on diverse, non-commercial music. All of the three DJs will continue to host their current shows on Radio 1. Radio 1's controller, Andy Parfitt, said: \"We believe that by having a series of DJs hosting a selection of shows under the One Music title, we will ensure that his legacy lives on. \"Radio 1 said the show would not try to replace Peel, but would rise to the \"challenge\" of \"keeping his legacy alive\" with unpredictable music. Huw Stephens is currently one half of the Radio 1 Thursday night show Bethan and Huw in Wales, which explores new music, especially up and coming acts breaking through in Wales. One Music is not new to Radio 1 as it already exists as a website, offering advice on aspects of the music industry, such as recording a demo and signing a record contract. \"It is widely accepted that John Peel can never be replaced,\" said the radio station. His show is dedicated to showcasing the best of UK black music and broadcasts live sessions, often giving new artists their first chance to perform on live national radio.\n",
      "---------------------------------------\n",
      "line of original summary: 8\n",
      "---------------------------------------\n",
      "text line: 18\n"
     ]
    }
   ],
   "source": [
    "summaryEvaluate(sentences,newScore,originalSummary)"
   ]
  },
  {
   "cell_type": "code",
   "execution_count": null,
   "metadata": {},
   "outputs": [],
   "source": []
  },
  {
   "cell_type": "code",
   "execution_count": null,
   "metadata": {},
   "outputs": [],
   "source": []
  },
  {
   "cell_type": "code",
   "execution_count": null,
   "metadata": {},
   "outputs": [],
   "source": []
  },
  {
   "cell_type": "code",
   "execution_count": null,
   "metadata": {},
   "outputs": [],
   "source": []
  },
  {
   "cell_type": "code",
   "execution_count": null,
   "metadata": {},
   "outputs": [],
   "source": []
  },
  {
   "cell_type": "code",
   "execution_count": null,
   "metadata": {},
   "outputs": [],
   "source": []
  },
  {
   "cell_type": "code",
   "execution_count": null,
   "metadata": {},
   "outputs": [],
   "source": []
  },
  {
   "cell_type": "code",
   "execution_count": null,
   "metadata": {},
   "outputs": [],
   "source": []
  },
  {
   "cell_type": "code",
   "execution_count": null,
   "metadata": {},
   "outputs": [],
   "source": []
  },
  {
   "cell_type": "code",
   "execution_count": null,
   "metadata": {},
   "outputs": [],
   "source": []
  },
  {
   "cell_type": "code",
   "execution_count": null,
   "metadata": {},
   "outputs": [],
   "source": []
  },
  {
   "cell_type": "code",
   "execution_count": null,
   "metadata": {},
   "outputs": [],
   "source": []
  },
  {
   "cell_type": "code",
   "execution_count": null,
   "metadata": {},
   "outputs": [],
   "source": []
  },
  {
   "cell_type": "code",
   "execution_count": null,
   "metadata": {},
   "outputs": [],
   "source": []
  },
  {
   "cell_type": "code",
   "execution_count": null,
   "metadata": {},
   "outputs": [],
   "source": []
  }
 ],
 "metadata": {
  "kernelspec": {
   "display_name": "Python 3",
   "language": "python",
   "name": "python3"
  },
  "language_info": {
   "codemirror_mode": {
    "name": "ipython",
    "version": 3
   },
   "file_extension": ".py",
   "mimetype": "text/x-python",
   "name": "python",
   "nbconvert_exporter": "python",
   "pygments_lexer": "ipython3",
   "version": "3.7.3"
  }
 },
 "nbformat": 4,
 "nbformat_minor": 2
}
