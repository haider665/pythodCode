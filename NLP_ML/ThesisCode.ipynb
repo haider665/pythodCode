{
 "cells": [
  {
   "cell_type": "code",
   "execution_count": null,
   "metadata": {},
   "outputs": [],
   "source": []
  },
  {
   "cell_type": "code",
   "execution_count": 1,
   "metadata": {},
   "outputs": [],
   "source": [
    "import nltk\n",
    "from nltk.stem import WordNetLemmatizer\n",
    "from nltk.corpus import stopwords\n",
    "from nltk.tokenize import sent_tokenize,word_tokenize\n",
    "from nltk.translate.bleu_score import sentence_bleu\n",
    "from nltk.corpus import wordnet as wn\n",
    "import re\n",
    "from gensim.models import Word2Vec\n",
    "from sklearn.cluster import KMeans\n",
    "from sklearn import cluster\n",
    "from sklearn import metrics\n",
    "import matplotlib.pyplot as plt\n",
    "import numpy as np\n",
    "import docx\n",
    "\n",
    "Stopwords = set(stopwords.words('english'))\n",
    "wordlemmatizer = WordNetLemmatizer()"
   ]
  },
  {
   "cell_type": "code",
   "execution_count": null,
   "metadata": {},
   "outputs": [],
   "source": []
  },
  {
   "cell_type": "code",
   "execution_count": 105,
   "metadata": {},
   "outputs": [],
   "source": [
    "def lemmatize_words(words): # used\n",
    "    lemmatized_words = []\n",
    "    for word in words:\n",
    "        tempList = []\n",
    "        for word2 in word:\n",
    "            tempList.append(wordlemmatizer.lemmatize(word2))\n",
    "        lemmatized_words.append(tempList)\n",
    "    return lemmatized_words\n",
    "\n",
    "def uniqueWord(w): # used \n",
    "    w2=[]\n",
    "    for word in w:\n",
    "        tempList=[]\n",
    "        for word2 in word:\n",
    "            if tempList.count(word2)<1:\n",
    "                    tempList.append(word2)\n",
    "        w2.append(tempList)\n",
    "    return w2\n",
    "\n",
    "def stem_words(words):\n",
    "    stemmed_words = []\n",
    "    for word in words:\n",
    "       stemmed_words.append(stemmer.stem(word))\n",
    "    return stemmed_words\n",
    "def remove_special_characters(text): # used\n",
    "    regex = r'[^a-zA-Z0-9\\s]'\n",
    "    text = re.sub(regex,'',text)\n",
    "    return text\n",
    "def freq(words):\n",
    "    words = [word.lower() for word in words]\n",
    "    dict_freq = {}\n",
    "    words_unique = []\n",
    "    for word in words:\n",
    "       if word not in words_unique:\n",
    "           words_unique.append(word)\n",
    "    for word in words_unique:\n",
    "       dict_freq[word] = words.count(word)\n",
    "    return dict_freq\n",
    "def pos_tagging(text):\n",
    "    pos_tag = nltk.pos_tag(text.split())\n",
    "    pos_tagged_noun_verb = []\n",
    "    for word,tag in pos_tag:\n",
    "        if tag == \"NN\" or tag == \"NNP\" or tag == \"NNS\" or tag == \"VB\" or tag == \"VBD\" or tag == \"VBG\" or tag == \"VBN\" or tag == \"VBP\" or tag == \"VBZ\":\n",
    "             pos_tagged_noun_verb.append(word)\n",
    "    return pos_tagged_noun_verb\n",
    "\n",
    "def removeStopWord(word_text):  # used\n",
    "    filtered_sentence = [] \n",
    "    stop_words = set(stopwords.words('english'))   \n",
    "    for w in word_text:\n",
    "        tempList=[]\n",
    "        for x in w:\n",
    "            if x.lower() not in stop_words: \n",
    "                tempList.append(x)\n",
    "        filtered_sentence.append(tempList)\n",
    "    return filtered_sentence   \n",
    " \n",
    "def meanOfWord(model, sentence): # used\n",
    "#     posValue=nltk.pos_tag(sentence)\n",
    "    posList=['CD']\n",
    "    nounList=['NN','NNP','NNS','NNPS']\n",
    "    value=[]\n",
    "    count=0\n",
    "    noun=0\n",
    "    for word in sentence:\n",
    "        a=model.similar_by_word(word)\n",
    "        temp=[]\n",
    "        for w in a:\n",
    "            temp.append(w[1])\n",
    "        posValue=nltk.pos_tag([word])\n",
    "#         print(posValue)\n",
    "        wordScore=np.mean(temp)\n",
    "        if posValue[0][1] in posList:\n",
    "            count=count+1\n",
    "        else:\n",
    "            valueIfNum=checkNum(word)\n",
    "            count=count+valueIfNum\n",
    "        if posValue[0][1] in nounList:\n",
    "            noun=noun + .25\n",
    "        value.append(wordScore)\n",
    "    return np.mean(value)+count+noun\n",
    "\n",
    "        \n",
    "def checkSimilarity(originalSummary,machineSummary): # used\n",
    "    ref = [originalSummary.split()]\n",
    "    can = machineSummary.split()\n",
    "    score = sentence_bleu(ref, can, weights=(0,0,0,0))\n",
    "    \n",
    "    s1= sentence_bleu(ref, can, weights=(1, 0, 0, 0))\n",
    "    s2=sentence_bleu(ref, can, weights=(0.5, 0.5, 0, 0))\n",
    "    s3=sentence_bleu(ref, can, weights=(0.33, 0.33, 0.33, 0))\n",
    "    s4=sentence_bleu(ref, can, weights=(0.25, 0.25, 0.25, 0.25))\n",
    "#     print(score)\n",
    "#     print('Cumulative 1-gram: %f' % s1)\n",
    "#     print('Cumulative 2-gram: %f' % s2)\n",
    "#     print('Cumulative 3-gram: %f' % s3)\n",
    "#     print('Cumulative 4-gram: %f' % s4)\n",
    "    mean= np.mean([s1,s2,s3,s4])\n",
    "    return [mean,[s1,s2,s3,s4]]\n",
    "    \n",
    "def checkNum(s):\n",
    "    l= ['1','2','3','4','5','6','7','8','9','0']\n",
    "    check =False\n",
    "\n",
    "    for i in s:\n",
    "        if i in l:\n",
    "            check = True\n",
    "            break\n",
    "    if check == True:\n",
    "        return 1\n",
    "    else:\n",
    "        return 0"
   ]
  },
  {
   "cell_type": "code",
   "execution_count": null,
   "metadata": {},
   "outputs": [],
   "source": []
  },
  {
   "cell_type": "code",
   "execution_count": null,
   "metadata": {},
   "outputs": [],
   "source": []
  },
  {
   "cell_type": "code",
   "execution_count": null,
   "metadata": {},
   "outputs": [],
   "source": []
  },
  {
   "cell_type": "code",
   "execution_count": null,
   "metadata": {},
   "outputs": [],
   "source": []
  },
  {
   "cell_type": "code",
   "execution_count": 230,
   "metadata": {},
   "outputs": [],
   "source": [
    "# text = \"Thank you for keeping keeping me updated on this issue. I'm happy to hear that the issue got resolved after all and you can now use the app in its full functionality again. Also many thanks for your suggestions. We hope to improve this feature in the future. In case you experience any further problems with the app, please don't hesitate to contact me again.\"\n",
    "# text = \"The Daman and Diu administration on Wednesday withdrew a circular that asked women staff to tie rakhis on male colleagues after the order triggered a backlash from employees and was ripped apart on social media.The union territory’s administration was forced to retreat within 24 hours of issuing the circular that made it compulsory for its staff to celebrate Rakshabandhan at workplace. It has been decided to celebrate the festival of Rakshabandhan on August 7. In this connection, all offices/ departments shall remain open and celebrate the festival collectively at a suitable time wherein all the lady staff shall tie rakhis to their colleagues, the order, issued on August 1 by Gurpreet Singh, deputy secretary (personnel), had said.To ensure that no one skipped office, an attendance report was to be sent to the government the next evening.The two notifications one mandating the celebration of Rakshabandhan (left)and the other withdrawing the mandate (right) were issued by the Daman and Diu administration a day apart. The circular was withdrawn through a one-line order issued late in the evening by the UT’s department of personnel and administrative reforms. The circular is ridiculous. There are sensitivities involved. How can the government dictate who I should tie rakhi to we should maintain the professionalism of a workplace an official told Hindustan Times earlier in the day. She refused to be identified. The notice was issued on Daman and Diu administrator and former Gujarat home minister Praful Kodabhai Patel’s direction, sources said.Rakshabandhan, a celebration of the bond between brothers and sisters, is one of several Hindu festivities and rituals that are no longer confined of private, family affairs but have become tools to push politic al ideologies.In 2014, the year BJP stormed to power at the Centre, Rashtriya Swayamsevak Sangh (RSS) chief Mohan Bhagwat said the festival had ?national significance and should be celebrated widely to protect Hindu culture and live by the values enshrined in it. The RSS is the ideological parent of the ruling BJP. Last year, women ministers in the Modi government went to the border areas to celebrate the festival with soldiers. A year before, all cabinet ministers were asked to go to their constituencies for the festival.\"\n",
    "# text=\"At least 162 passengers and 11 crew members have reported being ill on board Princess Cruises\\' Caribbean Princess, according to the Centers for Disease Control and Prevention. The institute said health officers would board the ship in Houston to investigate the gastrointestinal illness, which is causing vomiting and diarrhea. The news follows reports of sickness this week on another cruise ship, this one from the Royal Caribbean line. Nearly 700 crew and passengers fell ill aboard the Royal Caribbean's Explorer of the Seas, the highest number of sick people reported on any cruise ship in two decades, CDC data show. That ship returned home Wednesday, two days earlier than expected. To compare the cruises, 5.22% of passengers on the Caribbean Princess reported being ill, versus 20.5% on the Explorer of the Seas. The outbreak on board the Caribbean Princess has been confirmed as norovirus, according to Julie Benson, a spokeswoman for Princess Cruises. Are cruise ships floating petri dishes? Noroviruses spread easily and are a common cause of gastroenteritis, which produces vomiting and diarrhea. Norovirus is also suspected on board the Explorer of the Seas, though the cause of the illness there has not been confirmed. Caribbean Princess is expected in Houston early Friday. The seven-day cruise is being cut short by one day. Sick passengers are being asked to stay in their cabins, while staff disinfect public areas such as restrooms and elevators. The decision to cut the trip short was made based on forecasts for heavy fog, not the outbreak, Benson said. CNN first learned of the stricken Princess ship from a Twitter post by the Houston Chronicle. Royal Caribbean cruise ship returns home - with a sickness record CNN's Miriam Falco contributed to this report.\"\n",
    "\n",
    "doc = docx.Document('C:/Users/Haider/Article/Business/133.docx')\n",
    "text = []\n",
    "for paragraph in doc.paragraphs:\n",
    "    text.append(paragraph.text)\n",
    "text = ' '.join(text)  \n",
    "\n",
    "doc = docx.Document('C:/Users/Haider/Article/Business/summary/133.docx')\n",
    "originalSummary = []\n",
    "for paragraph in doc.paragraphs:\n",
    "    originalSummary.append(paragraph.text)\n",
    "originalSummary = ' '.join(originalSummary)  \n",
    "\n",
    "sentences = sent_tokenize(text) # 1: sent tokenize\n",
    "text_noSpecial_character = remove_special_characters(str(text)) # 2: remove special character:\n",
    "# text_noSpecial_character = re.sub(r'\\d+', '', text_noSpecial_character)\n",
    "word_text = [[text_noSpecial_character for text_noSpecial_character in sentences.split()] for sentences in sentences] # 3: word token\n",
    "stop_text= removeStopWord(word_text) # 4: remove stop words\n",
    "unique_text= uniqueWord(stop_text)   # 5: remove duplicate words\n",
    "lemma_text = lemmatize_words(unique_text) # 6: lemmatization\n",
    "\n",
    "# there may be an issue about the unique word. i have to check which gives better accuracy\n",
    "# kmean cluster using full sentence or kmean cluster usnig unique words in sentence\n"
   ]
  },
  {
   "cell_type": "code",
   "execution_count": null,
   "metadata": {},
   "outputs": [],
   "source": []
  },
  {
   "cell_type": "code",
   "execution_count": null,
   "metadata": {},
   "outputs": [],
   "source": []
  },
  {
   "cell_type": "code",
   "execution_count": null,
   "metadata": {},
   "outputs": [],
   "source": []
  },
  {
   "cell_type": "code",
   "execution_count": 231,
   "metadata": {},
   "outputs": [
    {
     "name": "stderr",
     "output_type": "stream",
     "text": [
      "C:\\Users\\Haider\\Anaconda3\\lib\\site-packages\\ipykernel_launcher.py:8: DeprecationWarning: Call to deprecated `__getitem__` (Method will be removed in 4.0.0, use self.wv.__getitem__() instead).\n",
      "  \n",
      "C:\\Users\\Haider\\Anaconda3\\lib\\site-packages\\ipykernel_launcher.py:10: DeprecationWarning: Call to deprecated `__getitem__` (Method will be removed in 4.0.0, use self.wv.__getitem__() instead).\n",
      "  # Remove the CWD from sys.path while we load stuff.\n"
     ]
    }
   ],
   "source": [
    "model = Word2Vec(lemma_text, min_count=1,sg=1)\n",
    "def vectorizer(sent,m):\n",
    "    vec=[]\n",
    "    numw=0\n",
    "    for w in sent:\n",
    "        try:\n",
    "            if numw==0:\n",
    "                vec=m[w]\n",
    "            else:\n",
    "                vec=np.add(vec,m[w])\n",
    "            numw+=1;\n",
    "        except:\n",
    "            pass\n",
    "    return np.asarray(vec)/numw\n",
    "    \n",
    "l=[]\n",
    "for i in lemma_text:\n",
    "    l.append(vectorizer(i,model))\n",
    "#     print(vectorizer(i,model))\n",
    "\n",
    "x= np.array(l)\n"
   ]
  },
  {
   "cell_type": "code",
   "execution_count": null,
   "metadata": {},
   "outputs": [],
   "source": []
  },
  {
   "cell_type": "code",
   "execution_count": null,
   "metadata": {},
   "outputs": [],
   "source": []
  },
  {
   "cell_type": "code",
   "execution_count": null,
   "metadata": {},
   "outputs": [],
   "source": []
  },
  {
   "cell_type": "code",
   "execution_count": 232,
   "metadata": {},
   "outputs": [
    {
     "data": {
      "text/plain": [
       "<matplotlib.lines.Line2D at 0x1b26b0dfbe0>"
      ]
     },
     "execution_count": 232,
     "metadata": {},
     "output_type": "execute_result"
    },
    {
     "data": {
      "image/png": "[encoded data removed]",
      "text/plain": [
       "<Figure size 432x288 with 1 Axes>"
      ]
     },
     "metadata": {
      "needs_background": "light"
     },
     "output_type": "display_data"
    }
   ],
   "source": [
    "wcss=[]\n",
    "for i in range(1,13):\n",
    "    kmeans = KMeans(n_clusters=i,init='k-means++',random_state=42)\n",
    "    kmeans.fit(x)\n",
    "    wcss.append(kmeans.inertia_)\n",
    "plt.plot(range(1,13),wcss)\n",
    "plt.ylabel('Distortion')\n",
    "plt.title('The Elbow Method showing the optimal k')\n",
    "plt.axvline(x=3,color='red',linestyle='--',linewidth=.5)"
   ]
  },
  {
   "cell_type": "code",
   "execution_count": null,
   "metadata": {},
   "outputs": [],
   "source": []
  },
  {
   "cell_type": "code",
   "execution_count": 241,
   "metadata": {
    "scrolled": true
   },
   "outputs": [
    {
     "name": "stdout",
     "output_type": "stream",
     "text": [
      "[1 1 1 0 1 1 1 1 1 1 1 1 2 1]\n",
      "<class 'numpy.ndarray'>\n",
      "1:['Cameroon', 'say', 'widespread', 'corruption', 'finance', 'ministry', 'cost', '1bn', 'CFA', 'franc', '($2m;', 'Â£1m)', 'month.']5.69517821520567\n",
      "1:['500', 'official', 'accused', 'either', 'awarding', 'extra', 'money', 'claiming', 'salary', '\"non-existent\"', 'workers.']2.4380367582494564\n",
      "1:['Prime', 'Minister', 'Ephraim', 'Inoni,', 'vowed', 'tackle', 'corruption', 'came', 'office', 'last', 'year,', 'said', 'found', 'guilty', 'would', 'face', 'tough', 'punishments.']3.1889746520254345\n",
      "1:['prime', \"minister's\", 'office', 'said', 'alleged', 'fraud', 'uncovered', 'investigation', 'payroll', 'ministry.']1.9445608857274055\n",
      "1:['certain', 'cases,', 'staff', 'said', 'lied', 'rank', 'delayed', 'retirement', 'order', 'boost', 'earnings.']2.201454093239524\n",
      "1:['prime', \"minister's\", 'office', 'said', 'auditor', 'found', '\"irregularities', 'career', 'structure', 'certain', 'civil', 'servants\".']2.438472228497267\n",
      "1:['added', 'staff', 'question', '\"appear', 'received', 'unearned', 'salaries,', 'boosting', 'payroll\".']1.4399480692214435\n",
      "1:['Fidelis', 'Nanga,', 'journalist', 'based', 'Cameroon', 'capital', 'Yaounde,', 'said', 'government', 'considering', 'taking', 'criminal', 'action', 'found', 'guilty', 'forcing', 'repay', 'money', 'owed.']3.1938624624358978\n",
      "1:['\"The', 'prime', 'minister', 'given', 'instruction', 'exemplary', 'penalty', 'meted', 'accused', 'accomplice', 'found', 'guilty,\"', 'told', \"BBC's\", 'Network', 'Africa', 'programme.']3.4398658991298254\n",
      "1:['Mr', 'Inoni', 'launched', 'anti-corruption', 'drive', 'December', 'foreign', 'investor', 'criticised', 'lack', 'transparency', \"country's\", 'public', 'finances.']2.936990144263421\n",
      "1:['one', 'initiative', 'designed', 'improve', 'efficiency,', 'civil', 'servant', 'arrived', 'late', 'work', 'locked', 'offices.']2.445330685625474"
     ]
    },
    {
     "name": "stderr",
     "output_type": "stream",
     "text": [
      "C:\\Users\\Haider\\Anaconda3\\lib\\site-packages\\ipykernel_launcher.py:66: DeprecationWarning: Call to deprecated `similar_by_word` (Method will be removed in 4.0.0, use self.wv.similar_by_word() instead).\n"
     ]
    },
    {
     "name": "stdout",
     "output_type": "stream",
     "text": [
      "\n",
      "1:['report', 'compiled', 'anti-corruption', 'body', 'Transparency', 'International', '2003,', 'graft', 'said', '\"pervasive\"', 'Cameroon.']3.187947913327\n",
      "[[0, 5.69517821520567], [1, 2.4380367582494564], [2, 3.1889746520254345], [4, 1.9445608857274055], [5, 2.201454093239524], [6, 2.438472228497267], [7, 1.4399480692214435], [8, 3.1938624624358978], [9, 3.4398658991298254], [10, 2.936990144263421], [11, 2.445330685625474], [13, 3.187947913327]]\n"
     ]
    }
   ],
   "source": [
    "n_cluster=3\n",
    "kmeans= KMeans(n_clusters=n_cluster)\n",
    "labels=kmeans.fit_predict(x)\n",
    "print(labels)\n",
    "print(type(labels))\n",
    "labelList= labels.tolist()\n",
    "max = 0\n",
    "res = labelList[0] # cluster with maximum frequency\n",
    "for i in labelList: \n",
    "    freq = labelList.count(i) \n",
    "    if freq > max: \n",
    "        max = freq \n",
    "        res = i \n",
    "# print(res)        \n",
    "score=[]\n",
    "for index, sentence in enumerate(lemma_text):\n",
    "    i = lemma_text.index(sentence)\n",
    "    if labels[index] == res:  \n",
    "        meanScore= meanOfWord(model,sentence)\n",
    "        print(str(labels[index])+ \":\"+ str(sentence)+ str(meanScore) )\n",
    "        temp = [i,meanScore]\n",
    "        score.append(temp)\n",
    "#     print(meanOfWord(model,sentence))\n",
    "print(score)"
   ]
  },
  {
   "cell_type": "code",
   "execution_count": null,
   "metadata": {},
   "outputs": [],
   "source": []
  },
  {
   "cell_type": "code",
   "execution_count": null,
   "metadata": {},
   "outputs": [],
   "source": []
  },
  {
   "cell_type": "code",
   "execution_count": null,
   "metadata": {},
   "outputs": [],
   "source": []
  },
  {
   "cell_type": "code",
   "execution_count": null,
   "metadata": {},
   "outputs": [],
   "source": []
  },
  {
   "cell_type": "code",
   "execution_count": 242,
   "metadata": {},
   "outputs": [
    {
     "data": {
      "text/plain": [
       "[[0, 5.69517821520567],\n",
       " [9, 3.4398658991298254],\n",
       " [8, 3.1938624624358978],\n",
       " [2, 3.1889746520254345],\n",
       " [13, 3.187947913327],\n",
       " [10, 2.936990144263421],\n",
       " [11, 2.445330685625474],\n",
       " [6, 2.438472228497267],\n",
       " [1, 2.4380367582494564],\n",
       " [5, 2.201454093239524],\n",
       " [4, 1.9445608857274055],\n",
       " [7, 1.4399480692214435]]"
      ]
     },
     "execution_count": 242,
     "metadata": {},
     "output_type": "execute_result"
    }
   ],
   "source": [
    "score.sort(key=lambda x:x[1],reverse=True)\n",
    "score"
   ]
  },
  {
   "cell_type": "code",
   "execution_count": null,
   "metadata": {},
   "outputs": [],
   "source": []
  },
  {
   "cell_type": "code",
   "execution_count": null,
   "metadata": {},
   "outputs": [],
   "source": []
  },
  {
   "cell_type": "code",
   "execution_count": null,
   "metadata": {},
   "outputs": [],
   "source": []
  },
  {
   "cell_type": "code",
   "execution_count": 243,
   "metadata": {},
   "outputs": [
    {
     "name": "stdout",
     "output_type": "stream",
     "text": [
      "[[0, 5.69517821520567], [9, 3.4398658991298254], [8, 3.1938624624358978], [2, 3.1889746520254345], [13, 3.187947913327], [10, 2.936990144263421]]\n"
     ]
    },
    {
     "data": {
      "text/plain": [
       "[[0, 5.69517821520567],\n",
       " [2, 3.1889746520254345],\n",
       " [8, 3.1938624624358978],\n",
       " [9, 3.4398658991298254],\n",
       " [10, 2.936990144263421],\n",
       " [13, 3.187947913327]]"
      ]
     },
     "execution_count": 243,
     "metadata": {},
     "output_type": "execute_result"
    }
   ],
   "source": [
    "newScore =[]\n",
    "length=round(len(sentences)/3)+1\n",
    "for i in range(0,length):\n",
    "    if i == len(score):\n",
    "        break\n",
    "    newScore.append(score[i])\n",
    "print(newScore)\n",
    "newScore.sort()\n",
    "newScore"
   ]
  },
  {
   "cell_type": "code",
   "execution_count": null,
   "metadata": {},
   "outputs": [],
   "source": []
  },
  {
   "cell_type": "code",
   "execution_count": null,
   "metadata": {},
   "outputs": [],
   "source": []
  },
  {
   "cell_type": "code",
   "execution_count": null,
   "metadata": {},
   "outputs": [],
   "source": []
  },
  {
   "cell_type": "code",
   "execution_count": 108,
   "metadata": {},
   "outputs": [],
   "source": [
    "def summaryEvaluate(sentences, newScore, originalSummary):\n",
    "    numOfSentence =round(len(sentences)/3)\n",
    "    mySummary = ''\n",
    "    for i in range (0, numOfSentence ):\n",
    "    #     st.join(sentences[i])\n",
    "        mySummary=mySummary+sentences[newScore[i][0]]+' '\n",
    "    c1=checkSimilarity(originalSummary,mySummary)\n",
    "    numOfSentence2 =round(len(sentences)/3)+1\n",
    "    mySummary2 = ''\n",
    "    for i in range (0, numOfSentence2 ):\n",
    "        mySummary2=mySummary2+sentences[newScore[i][0]]+' '\n",
    "    c2=checkSimilarity(originalSummary,mySummary2)\n",
    "    if c1[0]>c2[0]:\n",
    "        print('Cumulative 1-gram: %f' % c1[1][0])\n",
    "        print('Cumulative 2-gram: %f' % c1[1][1])\n",
    "        print('Cumulative 3-gram: %f' % c1[1][2])\n",
    "        print('Cumulative 4-gram: %f' % c1[1][3])\n",
    "        print('cumulative: ',str(c1[0]))\n",
    "        print(mySummary)  \n",
    "        print('---------------------------------------')\n",
    "        print('line of my summary: '+ str(numOfSentence))\n",
    "        print('---------------------------------------')\n",
    "        \n",
    "    else: \n",
    "        print('Cumulative 1-gram: %f' % c2[1][0])\n",
    "        print('Cumulative 2-gram: %f' % c2[1][1])\n",
    "        print('Cumulative 3-gram: %f' % c2[1][2])\n",
    "        print('Cumulative 4-gram: %f' % c2[1][3])\n",
    "        print('cumulative: ',str(c2[0]))\n",
    "        print(mySummary2)  \n",
    "        print('---------------------------------------')\n",
    "        print('line of my summary: '+ str(numOfSentence2))\n",
    "        print('---------------------------------------')\n",
    "    \n",
    "    print(originalSummary)\n",
    "    print('---------------------------------------')\n",
    "    print('line of original summary: '+str(len(sent_tokenize(originalSummary))))\n",
    "    print('---------------------------------------')\n",
    "    print('text line: '+str(len(sentences)))\n"
   ]
  },
  {
   "cell_type": "code",
   "execution_count": null,
   "metadata": {},
   "outputs": [],
   "source": []
  },
  {
   "cell_type": "code",
   "execution_count": 244,
   "metadata": {},
   "outputs": [
    {
     "name": "stdout",
     "output_type": "stream",
     "text": [
      "Cumulative 1-gram: 0.751773\n",
      "Cumulative 2-gram: 0.732790\n",
      "Cumulative 3-gram: 0.720844\n",
      "Cumulative 4-gram: 0.707058\n",
      "cumulative:  0.7281159515868169\n",
      "Cameroon says widespread corruption in its finance ministry has cost it 1bn CFA francs ($2m; Â£1m) a month. Prime Minister Ephraim Inoni, who vowed to tackle corruption when he came to office last year, said those found guilty would face tough punishments. Fidelis Nanga, a journalist based in the Cameroon capital Yaounde, said the government was considering taking criminal action against those found guilty and forcing them to repay any money owed. \"The prime minister has given instructions for exemplary penalties to be meted out against the accused and their accomplices if found guilty,\" he told the BBC's Network Africa programme. Mr Inoni launched an anti-corruption drive in December after foreign investors criticised a lack of transparency in the country's public finances. In a report compiled by anti-corruption body Transparency International in 2003, graft was said to be \"pervasive\" in Cameroon. \n",
      "---------------------------------------\n",
      "line of my summary: 6\n",
      "---------------------------------------\n",
      "The prime minister's office said the alleged fraud was uncovered during an investigation into the payroll at the ministry. The prime minister's office said auditors had found \"irregularities in the career structure of certain civil servants\". Prime Minister Ephraim Inoni, who vowed to tackle corruption when he came to office last year, said those found guilty would face tough punishments. Fidelis Nanga, a journalist based in the Cameroon capital Yaounde, said the government was considering taking criminal action against those found guilty and forcing them to repay any money owed. In a report compiled by anti-corruption body Transparency International in 2003, graft was said to be \"pervasive\" in Cameroon. \"The prime minister has given instructions for exemplary penalties to be meted out against the accused and their accomplices if found guilty,\" he told the BBC's Network Africa programme.\n",
      "---------------------------------------\n",
      "line of original summary: 6\n",
      "---------------------------------------\n",
      "text line: 14\n"
     ]
    }
   ],
   "source": [
    "summaryEvaluate(sentences,newScore,originalSummary)"
   ]
  },
  {
   "cell_type": "code",
   "execution_count": null,
   "metadata": {},
   "outputs": [],
   "source": []
  },
  {
   "cell_type": "code",
   "execution_count": null,
   "metadata": {},
   "outputs": [],
   "source": []
  },
  {
   "cell_type": "code",
   "execution_count": null,
   "metadata": {},
   "outputs": [],
   "source": []
  },
  {
   "cell_type": "code",
   "execution_count": null,
   "metadata": {},
   "outputs": [],
   "source": []
  },
  {
   "cell_type": "code",
   "execution_count": null,
   "metadata": {},
   "outputs": [],
   "source": []
  },
  {
   "cell_type": "code",
   "execution_count": null,
   "metadata": {},
   "outputs": [],
   "source": []
  },
  {
   "cell_type": "code",
   "execution_count": null,
   "metadata": {},
   "outputs": [],
   "source": []
  },
  {
   "cell_type": "code",
   "execution_count": null,
   "metadata": {},
   "outputs": [],
   "source": []
  },
  {
   "cell_type": "code",
   "execution_count": null,
   "metadata": {},
   "outputs": [],
   "source": []
  },
  {
   "cell_type": "code",
   "execution_count": null,
   "metadata": {},
   "outputs": [],
   "source": []
  },
  {
   "cell_type": "code",
   "execution_count": null,
   "metadata": {},
   "outputs": [],
   "source": []
  },
  {
   "cell_type": "code",
   "execution_count": null,
   "metadata": {},
   "outputs": [],
   "source": []
  },
  {
   "cell_type": "code",
   "execution_count": null,
   "metadata": {},
   "outputs": [],
   "source": []
  },
  {
   "cell_type": "code",
   "execution_count": null,
   "metadata": {},
   "outputs": [],
   "source": []
  },
  {
   "cell_type": "code",
   "execution_count": null,
   "metadata": {},
   "outputs": [],
   "source": []
  },
  {
   "cell_type": "code",
   "execution_count": null,
   "metadata": {},
   "outputs": [],
   "source": []
  },
  {
   "cell_type": "code",
   "execution_count": null,
   "metadata": {},
   "outputs": [],
   "source": []
  },
  {
   "cell_type": "code",
   "execution_count": null,
   "metadata": {},
   "outputs": [],
   "source": []
  },
  {
   "cell_type": "code",
   "execution_count": null,
   "metadata": {},
   "outputs": [],
   "source": []
  },
  {
   "cell_type": "code",
   "execution_count": null,
   "metadata": {},
   "outputs": [],
   "source": []
  },
  {
   "cell_type": "code",
   "execution_count": null,
   "metadata": {},
   "outputs": [],
   "source": []
  },
  {
   "cell_type": "code",
   "execution_count": null,
   "metadata": {},
   "outputs": [],
   "source": []
  },
  {
   "cell_type": "code",
   "execution_count": null,
   "metadata": {},
   "outputs": [],
   "source": []
  },
  {
   "cell_type": "code",
   "execution_count": null,
   "metadata": {},
   "outputs": [],
   "source": []
  },
  {
   "cell_type": "code",
   "execution_count": null,
   "metadata": {},
   "outputs": [],
   "source": []
  },
  {
   "cell_type": "code",
   "execution_count": null,
   "metadata": {},
   "outputs": [],
   "source": []
  },
  {
   "cell_type": "code",
   "execution_count": null,
   "metadata": {},
   "outputs": [],
   "source": []
  },
  {
   "cell_type": "code",
   "execution_count": null,
   "metadata": {},
   "outputs": [],
   "source": []
  },
  {
   "cell_type": "code",
   "execution_count": null,
   "metadata": {},
   "outputs": [],
   "source": []
  },
  {
   "cell_type": "code",
   "execution_count": null,
   "metadata": {},
   "outputs": [],
   "source": []
  },
  {
   "cell_type": "code",
   "execution_count": null,
   "metadata": {},
   "outputs": [],
   "source": []
  },
  {
   "cell_type": "code",
   "execution_count": 96,
   "metadata": {},
   "outputs": [
    {
     "name": "stdout",
     "output_type": "stream",
     "text": [
      "ID theft occurs when criminals use someone else's personal information to steal credit or commit other crimes. The report marks the fifth year in a row in which identity fraud has topped the table. The biggest slice of the 246,570 ID fraud cases reported - almost 30% - concerned abuses of people's credit. Misusing someone's identity to claim new credit cards or loans comprised 16.5% of the total, with almost 12% coming from false claims on existing credit. Catalogue and home-shopping frauds were next in line, accounting for 8% of total complaints, while concerns about internet services and computers - including spyware found on people's PCs and undisclosed charges for websites - amounted to 6% of complaints. \n",
      "---------------------------------------\n",
      "line of my summary: 5\n",
      "---------------------------------------\n",
      "The biggest slice of the 246,570 ID fraud cases reported - almost 30% - concerned abuses of people's credit. The total cost of fraud reported by consumers was $546m (Â£290m). Internet auctions were the second biggest source of fraud complaints, comprising 16% of the total. The Federal Trade Commission said two in five of the 635,173 reports it had from consumers concerned ID fraud. Catalogue and home-shopping frauds were next in line, accounting for 8% of total complaints, while concerns about internet services and computers - including spyware found on people's PCs and undisclosed charges for websites - amounted to 6% of complaints.\n",
      "---------------------------------------\n",
      "line of original summary: 5\n",
      "---------------------------------------\n",
      "text line: 12\n"
     ]
    }
   ],
   "source": [
    "numOfSentence =round(len(sentences)/3)+1\n",
    "mySummary = ''\n",
    "for i in range (0, numOfSentence ):\n",
    "#     st.join(sentences[i])\n",
    "    mySummary=mySummary+sentences[newScore[i][0]]+' '\n",
    "print(mySummary)  \n",
    "print('---------------------------------------')\n",
    "print('line of my summary: '+ str(numOfSentence))\n",
    "print('---------------------------------------')\n",
    "print(originalSummary)\n",
    "print('---------------------------------------')\n",
    "print('line of original summary: '+str(len(sent_tokenize(originalSummary))))\n",
    "print('---------------------------------------')\n",
    "print('text line: '+str(len(sentences)))\n",
    "\n"
   ]
  },
  {
   "cell_type": "code",
   "execution_count": null,
   "metadata": {},
   "outputs": [],
   "source": []
  },
  {
   "cell_type": "code",
   "execution_count": null,
   "metadata": {},
   "outputs": [],
   "source": []
  },
  {
   "cell_type": "code",
   "execution_count": 97,
   "metadata": {},
   "outputs": [
    {
     "name": "stdout",
     "output_type": "stream",
     "text": [
      "Cumulative 1-gram: 0.572650\n",
      "Cumulative 2-gram: 0.530460\n",
      "Cumulative 3-gram: 0.512779\n",
      "Cumulative 4-gram: 0.495479\n",
      "0.527842017033801\n"
     ]
    }
   ],
   "source": [
    "cumulative=checkSimilarity(originalSummary,mySummary)\n",
    "print(cumulative)"
   ]
  },
  {
   "cell_type": "code",
   "execution_count": null,
   "metadata": {},
   "outputs": [],
   "source": []
  },
  {
   "cell_type": "code",
   "execution_count": null,
   "metadata": {},
   "outputs": [],
   "source": []
  },
  {
   "cell_type": "code",
   "execution_count": null,
   "metadata": {},
   "outputs": [],
   "source": []
  },
  {
   "cell_type": "code",
   "execution_count": null,
   "metadata": {},
   "outputs": [],
   "source": []
  },
  {
   "cell_type": "code",
   "execution_count": null,
   "metadata": {},
   "outputs": [],
   "source": []
  },
  {
   "cell_type": "code",
   "execution_count": null,
   "metadata": {},
   "outputs": [],
   "source": []
  },
  {
   "cell_type": "code",
   "execution_count": 86,
   "metadata": {},
   "outputs": [
    {
     "name": "stdout",
     "output_type": "stream",
     "text": [
      "0.40519059326622675\n"
     ]
    }
   ],
   "source": []
  },
  {
   "cell_type": "code",
   "execution_count": null,
   "metadata": {},
   "outputs": [],
   "source": []
  },
  {
   "cell_type": "code",
   "execution_count": null,
   "metadata": {},
   "outputs": [],
   "source": []
  },
  {
   "cell_type": "code",
   "execution_count": null,
   "metadata": {},
   "outputs": [],
   "source": []
  },
  {
   "cell_type": "code",
   "execution_count": null,
   "metadata": {},
   "outputs": [],
   "source": []
  },
  {
   "cell_type": "code",
   "execution_count": null,
   "metadata": {},
   "outputs": [],
   "source": []
  },
  {
   "cell_type": "code",
   "execution_count": null,
   "metadata": {},
   "outputs": [],
   "source": []
  },
  {
   "cell_type": "code",
   "execution_count": null,
   "metadata": {},
   "outputs": [],
   "source": []
  },
  {
   "cell_type": "code",
   "execution_count": null,
   "metadata": {},
   "outputs": [],
   "source": []
  }
 ],
 "metadata": {
  "kernelspec": {
   "display_name": "Python 3",
   "language": "python",
   "name": "python3"
  },
  "language_info": {
   "codemirror_mode": {
    "name": "ipython",
    "version": 3
   },
   "file_extension": ".py",
   "mimetype": "text/x-python",
   "name": "python",
   "nbconvert_exporter": "python",
   "pygments_lexer": "ipython3",
   "version": "3.7.3"
  }
 },
 "nbformat": 4,
 "nbformat_minor": 2
}
