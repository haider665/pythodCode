{
 "cells": [
  {
   "cell_type": "code",
   "execution_count": null,
   "metadata": {},
   "outputs": [],
   "source": []
  },
  {
   "cell_type": "code",
   "execution_count": null,
   "metadata": {},
   "outputs": [],
   "source": []
  },
  {
   "cell_type": "code",
   "execution_count": 1,
   "metadata": {},
   "outputs": [],
   "source": [
    "import nltk\n",
    "from nltk.stem import WordNetLemmatizer\n",
    "from nltk.corpus import stopwords\n",
    "from nltk.tokenize import sent_tokenize,word_tokenize\n",
    "from nltk.translate.bleu_score import sentence_bleu\n",
    "from nltk.corpus import wordnet as wn\n",
    "import re\n",
    "from gensim.models import Word2Vec\n",
    "from sklearn.cluster import KMeans\n",
    "from sklearn import cluster\n",
    "from sklearn import metrics\n",
    "import matplotlib.pyplot as plt\n",
    "import numpy as np\n",
    "# import docx\n",
    "\n",
    "Stopwords = set(stopwords.words('english'))\n",
    "wordlemmatizer = WordNetLemmatizer()"
   ]
  },
  {
   "cell_type": "code",
   "execution_count": null,
   "metadata": {},
   "outputs": [],
   "source": []
  },
  {
   "cell_type": "code",
   "execution_count": null,
   "metadata": {},
   "outputs": [],
   "source": []
  },
  {
   "cell_type": "code",
   "execution_count": 214,
   "metadata": {},
   "outputs": [],
   "source": [
    "def lemmatize_words(words): # used\n",
    "    lemmatized_words = []\n",
    "    for word in words:\n",
    "        tempList = []\n",
    "        for word2 in word:\n",
    "            tempList.append(wordlemmatizer.lemmatize(word2))\n",
    "        lemmatized_words.append(tempList)\n",
    "    return lemmatized_words\n",
    "\n",
    "def uniqueWord(w): # used \n",
    "    w2=[]\n",
    "    for word in w:\n",
    "        tempList=[]\n",
    "        for word2 in word:\n",
    "            if tempList.count(word2)<1:\n",
    "                    tempList.append(word2)\n",
    "        w2.append(tempList)\n",
    "    return w2\n",
    "\n",
    "def stem_words(words):\n",
    "    stemmed_words = []\n",
    "    for word in words:\n",
    "       stemmed_words.append(stemmer.stem(word))\n",
    "    return stemmed_words\n",
    "def remove_special_characters(text): # used\n",
    "    regex = r'[^a-zA-Z0-9\\s]'\n",
    "    text = re.sub(regex,'',text)\n",
    "    return text\n",
    "def freq(words):\n",
    "    words = [word.lower() for word in words]\n",
    "    dict_freq = {}\n",
    "    words_unique = []\n",
    "    for word in words:\n",
    "       if word not in words_unique:\n",
    "           words_unique.append(word)\n",
    "    for word in words_unique:\n",
    "       dict_freq[word] = words.count(word)\n",
    "    return dict_freq\n",
    "def pos_tagging(text):\n",
    "    pos_tag = nltk.pos_tag(text.split())\n",
    "    pos_tagged_noun_verb = []\n",
    "    for word,tag in pos_tag:\n",
    "        if tag == \"NN\" or tag == \"NNP\" or tag == \"NNS\" or tag == \"VB\" or tag == \"VBD\" or tag == \"VBG\" or tag == \"VBN\" or tag == \"VBP\" or tag == \"VBZ\":\n",
    "             pos_tagged_noun_verb.append(word)\n",
    "    return pos_tagged_noun_verb\n",
    "\n",
    "def removeStopWord(word_text):  # used\n",
    "    filtered_sentence = [] \n",
    "    stop_words = set(stopwords.words('english'))   \n",
    "    for w in word_text:\n",
    "        tempList=[]\n",
    "        for x in w:\n",
    "            if x.lower() not in stop_words: \n",
    "                tempList.append(x)\n",
    "        filtered_sentence.append(tempList)\n",
    "    return filtered_sentence   \n",
    " \n",
    "def meanOfWord(model, sentence): # used\n",
    "#     posValue=nltk.pos_tag(sentence)\n",
    "    posList=['CD']\n",
    "    nounList=['NN','NNP','NNS','NNPS']\n",
    "    value=[]\n",
    "    count=0\n",
    "    noun=0\n",
    "    for word in sentence:\n",
    "        a=model.similar_by_word(word)\n",
    "        temp=[]\n",
    "        for w in a:\n",
    "            temp.append(w[1])\n",
    "        posValue=nltk.pos_tag([word])\n",
    "#         print(posValue)\n",
    "        wordScore=np.mean(temp)\n",
    "        if posValue[0][1] in posList:\n",
    "            count=count+1\n",
    "        value.append(wordScore)\n",
    "    return np.mean(value)+count+noun\n",
    "\n",
    "        \n",
    "def checkSimilarity(originalSummary,machineSummary): # used\n",
    "    ref = [originalSummary.split()]\n",
    "    can = machineSummary.split()\n",
    "    score = sentence_bleu(ref, can, weights=(0,0,0,0))\n",
    "    print(score)\n",
    "    print('Cumulative 1-gram: %f' % sentence_bleu(ref, can, weights=(1, 0, 0, 0)))\n",
    "    print('Cumulative 2-gram: %f' % sentence_bleu(ref, can, weights=(0.5, 0.5, 0, 0)))\n",
    "    print('Cumulative 3-gram: %f' % sentence_bleu(ref, can, weights=(0.33, 0.33, 0.33, 0)))\n",
    "    print('Cumulative 4-gram: %f' % sentence_bleu(ref, can, weights=(0.25, 0.25, 0.25, 0.25)))\n",
    "    \n",
    "    \n"
   ]
  },
  {
   "cell_type": "code",
   "execution_count": null,
   "metadata": {},
   "outputs": [],
   "source": []
  },
  {
   "cell_type": "code",
   "execution_count": null,
   "metadata": {},
   "outputs": [],
   "source": []
  },
  {
   "cell_type": "code",
   "execution_count": 178,
   "metadata": {},
   "outputs": [
    {
     "name": "stdout",
     "output_type": "stream",
     "text": [
      "[('Quarterly', 'JJ')]\n",
      "[('profit', 'NN')]\n",
      "[('US', 'NN')]\n",
      "[('medium', 'NN')]\n",
      "[('giant', 'NN')]\n",
      "[('TimeWarner', 'NN')]\n",
      "[('jumped', 'NN')]\n",
      "[('76%', 'CD')]\n",
      "[('$1.13bn', 'NN')]\n",
      "[('(£600m)', 'NN')]\n",
      "[('three', 'CD')]\n",
      "[('month', 'NN')]\n",
      "[('December,', 'NN')]\n",
      "[('$639m', 'NN')]\n",
      "[('year-earlier.', 'NN')]\n"
     ]
    },
    {
     "name": "stderr",
     "output_type": "stream",
     "text": [
      "C:\\Users\\Haider\\Anaconda3\\lib\\site-packages\\ipykernel_launcher.py:64: DeprecationWarning: Call to deprecated `similar_by_word` (Method will be removed in 4.0.0, use self.wv.similar_by_word() instead).\n"
     ]
    }
   ],
   "source": [
    "val=meanOfWord(model,['Quarterly',\n",
    "  'profit',\n",
    "  'US',\n",
    "  'medium',\n",
    "  'giant',\n",
    "  'TimeWarner',\n",
    "  'jumped',\n",
    "  '76%',\n",
    "  '$1.13bn',\n",
    "  '(£600m)',\n",
    "  'three',\n",
    "  'month',\n",
    "  'December,',\n",
    "  '$639m',\n",
    "  'year-earlier.'])"
   ]
  },
  {
   "cell_type": "code",
   "execution_count": null,
   "metadata": {},
   "outputs": [],
   "source": []
  },
  {
   "cell_type": "code",
   "execution_count": null,
   "metadata": {},
   "outputs": [],
   "source": []
  },
  {
   "cell_type": "code",
   "execution_count": 179,
   "metadata": {},
   "outputs": [
    {
     "data": {
      "text/plain": [
       "14.205928049286207"
      ]
     },
     "execution_count": 179,
     "metadata": {},
     "output_type": "execute_result"
    }
   ],
   "source": [
    "val"
   ]
  },
  {
   "cell_type": "code",
   "execution_count": null,
   "metadata": {},
   "outputs": [],
   "source": []
  },
  {
   "cell_type": "code",
   "execution_count": null,
   "metadata": {},
   "outputs": [],
   "source": []
  },
  {
   "cell_type": "code",
   "execution_count": 215,
   "metadata": {},
   "outputs": [],
   "source": [
    "# text = \"Thank you for keeping keeping me updated on this issue. I'm happy to hear that the issue got resolved after all and you can now use the app in its full functionality again. Also many thanks for your suggestions. We hope to improve this feature in the future. In case you experience any further problems with the app, please don't hesitate to contact me again.\"\n",
    "# text = \"The Daman and Diu administration on Wednesday withdrew a circular that asked women staff to tie rakhis on male colleagues after the order triggered a backlash from employees and was ripped apart on social media.The union territory’s administration was forced to retreat within 24 hours of issuing the circular that made it compulsory for its staff to celebrate Rakshabandhan at workplace. It has been decided to celebrate the festival of Rakshabandhan on August 7. In this connection, all offices/ departments shall remain open and celebrate the festival collectively at a suitable time wherein all the lady staff shall tie rakhis to their colleagues, the order, issued on August 1 by Gurpreet Singh, deputy secretary (personnel), had said.To ensure that no one skipped office, an attendance report was to be sent to the government the next evening.The two notifications one mandating the celebration of Rakshabandhan (left)and the other withdrawing the mandate (right) were issued by the Daman and Diu administration a day apart. The circular was withdrawn through a one-line order issued late in the evening by the UT’s department of personnel and administrative reforms. The circular is ridiculous. There are sensitivities involved. How can the government dictate who I should tie rakhi to we should maintain the professionalism of a workplace an official told Hindustan Times earlier in the day. She refused to be identified. The notice was issued on Daman and Diu administrator and former Gujarat home minister Praful Kodabhai Patel’s direction, sources said.Rakshabandhan, a celebration of the bond between brothers and sisters, is one of several Hindu festivities and rituals that are no longer confined of private, family affairs but have become tools to push politic al ideologies.In 2014, the year BJP stormed to power at the Centre, Rashtriya Swayamsevak Sangh (RSS) chief Mohan Bhagwat said the festival had ?national significance and should be celebrated widely to protect Hindu culture and live by the values enshrined in it. The RSS is the ideological parent of the ruling BJP. Last year, women ministers in the Modi government went to the border areas to celebrate the festival with soldiers. A year before, all cabinet ministers were asked to go to their constituencies for the festival.\"\n",
    "# text=\"At least 162 passengers and 11 crew members have reported being ill on board Princess Cruises\\' Caribbean Princess, according to the Centers for Disease Control and Prevention. The institute said health officers would board the ship in Houston to investigate the gastrointestinal illness, which is causing vomiting and diarrhea. The news follows reports of sickness this week on another cruise ship, this one from the Royal Caribbean line. Nearly 700 crew and passengers fell ill aboard the Royal Caribbean's Explorer of the Seas, the highest number of sick people reported on any cruise ship in two decades, CDC data show. That ship returned home Wednesday, two days earlier than expected. To compare the cruises, 5.22% of passengers on the Caribbean Princess reported being ill, versus 20.5% on the Explorer of the Seas. The outbreak on board the Caribbean Princess has been confirmed as norovirus, according to Julie Benson, a spokeswoman for Princess Cruises. Are cruise ships floating petri dishes? Noroviruses spread easily and are a common cause of gastroenteritis, which produces vomiting and diarrhea. Norovirus is also suspected on board the Explorer of the Seas, though the cause of the illness there has not been confirmed. Caribbean Princess is expected in Houston early Friday. The seven-day cruise is being cut short by one day. Sick passengers are being asked to stay in their cabins, while staff disinfect public areas such as restrooms and elevators. The decision to cut the trip short was made based on forecasts for heavy fog, not the outbreak, Benson said. CNN first learned of the stricken Princess ship from a Twitter post by the Houston Chronicle. Royal Caribbean cruise ship returns home - with a sickness record CNN's Miriam Falco contributed to this report.\"\n",
    "import docx\n",
    "doc = docx.Document('demo.docx')\n",
    "text = []\n",
    "for paragraph in doc.paragraphs:\n",
    "    text.append(paragraph.text)\n",
    "text = ' '.join(text)  \n",
    "\n",
    "sentences = sent_tokenize(text) # 1: sent tokenize\n",
    "text_noSpecial_character = remove_special_characters(str(text)) # 2: remove special character:\n",
    "# text_noSpecial_character = re.sub(r'\\d+', '', text_noSpecial_character)\n",
    "word_text = [[text_noSpecial_character for text_noSpecial_character in sentences.split()] for sentences in sentences] # 3: word token\n",
    "stop_text= removeStopWord(word_text) # 4: remove stop words\n",
    "unique_text= uniqueWord(stop_text)   # 5: remove duplicate words\n",
    "lemma_text = lemmatize_words(unique_text) # 6: lemmatization\n",
    "\n",
    "# there may be an issue about the unique word. i have to check which gives better accuracy\n",
    "# kmean cluster using full sentence or kmean cluster usnig unique words in sentence\n"
   ]
  },
  {
   "cell_type": "code",
   "execution_count": null,
   "metadata": {},
   "outputs": [],
   "source": []
  },
  {
   "cell_type": "code",
   "execution_count": null,
   "metadata": {},
   "outputs": [],
   "source": []
  },
  {
   "cell_type": "code",
   "execution_count": null,
   "metadata": {},
   "outputs": [],
   "source": []
  },
  {
   "cell_type": "code",
   "execution_count": null,
   "metadata": {},
   "outputs": [],
   "source": []
  },
  {
   "cell_type": "code",
   "execution_count": null,
   "metadata": {},
   "outputs": [],
   "source": []
  },
  {
   "cell_type": "code",
   "execution_count": null,
   "metadata": {},
   "outputs": [],
   "source": []
  },
  {
   "cell_type": "code",
   "execution_count": null,
   "metadata": {},
   "outputs": [],
   "source": []
  },
  {
   "cell_type": "code",
   "execution_count": null,
   "metadata": {},
   "outputs": [],
   "source": []
  },
  {
   "cell_type": "code",
   "execution_count": 74,
   "metadata": {},
   "outputs": [
    {
     "data": {
      "text/plain": [
       "'jumped 76 to 113bn 600m'"
      ]
     },
     "execution_count": 74,
     "metadata": {},
     "output_type": "execute_result"
    }
   ],
   "source": [
    "# remove_special_characters('jumped 76% to $1.13bn (£600m)')"
   ]
  },
  {
   "cell_type": "code",
   "execution_count": null,
   "metadata": {},
   "outputs": [],
   "source": []
  },
  {
   "cell_type": "code",
   "execution_count": null,
   "metadata": {},
   "outputs": [],
   "source": []
  },
  {
   "cell_type": "code",
   "execution_count": null,
   "metadata": {},
   "outputs": [],
   "source": []
  },
  {
   "cell_type": "code",
   "execution_count": null,
   "metadata": {},
   "outputs": [],
   "source": []
  },
  {
   "cell_type": "code",
   "execution_count": 41,
   "metadata": {},
   "outputs": [
    {
     "data": {
      "text/plain": [
       "'Quarterly profits at US media giant TimeWarner jumped 76% to $1.13bn (£600m) for the three months to December, from $639m year-earlier.  The firm, which is now one of the biggest investors in Google, benefited from sales of high-speed internet connections and higher advert sales. TimeWarner said fourth quarter sales rose 2% to $11.1bn from $10.9bn. Its profits were buoyed by one-off gains which offset a profit dip at Warner Bros, and less users for AOL.  Time Warner said on Friday that it now owns 8% of search-engine Google. But its own internet business, AOL, had has mixed fortunes. It lost 464,000 subscribers in the fourth quarter profits were lower than in the preceding three quarters. However, the company said AOL\\'s underlying profit before exceptional items rose 8% on the back of stronger internet advertising revenues. It hopes to increase subscribers by offering the online service free to TimeWarner internet customers and will try to sign up AOL\\'s existing customers for high-speed broadband. TimeWarner also has to restate 2000 and 2003 results following a probe by the US Securities Exchange Commission (SEC), which is close to concluding.  Time Warner\\'s fourth quarter profits were slightly better than analysts\\' expectations. But its film division saw profits slump 27% to $284m, helped by box-office flops Alexander and Catwoman, a sharp contrast to year-earlier, when the third and final film in the Lord of the Rings trilogy boosted results. For the full-year, TimeWarner posted a profit of $3.36bn, up 27% from its 2003 performance, while revenues grew 6.4% to $42.09bn. \"Our financial performance was strong, meeting or exceeding all of our full-year objectives and greatly enhancing our flexibility,\" chairman and chief executive Richard Parsons said. For 2005, TimeWarner is projecting operating earnings growth of around 5%, and also expects higher revenue and wider profit margins.  Time Warner is to restate its accounts as part of efforts to resolve an inquiry into AOL by US market regulators. It has already offered to pay $300m to settle charges, in a deal that is under review by the SEC. The company said it was unable to estimate the amount it needed to set aside for legal reserves, which it previously set at $500m. It intends to adjust the way it accounts for a deal with German music publisher Bertelsmann\\'s purchase of a stake in AOL Europe, which it had reported as advertising revenue. It will now book the sale of its stake in AOL Europe as a loss on the value of that stake.     '"
      ]
     },
     "execution_count": 41,
     "metadata": {},
     "output_type": "execute_result"
    }
   ],
   "source": [
    "text"
   ]
  },
  {
   "cell_type": "code",
   "execution_count": 126,
   "metadata": {},
   "outputs": [
    {
     "data": {
      "text/plain": [
       "'Quarterly profits at US media giant TimeWarner jumped 76 to 113bn 600m for the three months to December from 639m yearearlier  The firm which is now one of the biggest investors in Google benefited from sales of highspeed internet connections and higher advert sales TimeWarner said fourth quarter sales rose 2 to 111bn from 109bn Its profits were buoyed by oneoff gains which offset a profit dip at Warner Bros and less users for AOL  Time Warner said on Friday that it now owns 8 of searchengine Google But its own internet business AOL had has mixed fortunes It lost 464000 subscribers in the fourth quarter profits were lower than in the preceding three quarters However the company said AOLs underlying profit before exceptional items rose 8 on the back of stronger internet advertising revenues It hopes to increase subscribers by offering the online service free to TimeWarner internet customers and will try to sign up AOLs existing customers for highspeed broadband TimeWarner also has to restate 2000 and 2003 results following a probe by the US Securities Exchange Commission SEC which is close to concluding  Time Warners fourth quarter profits were slightly better than analysts expectations But its film division saw profits slump 27 to 284m helped by boxoffice flops Alexander and Catwoman a sharp contrast to yearearlier when the third and final film in the Lord of the Rings trilogy boosted results For the fullyear TimeWarner posted a profit of 336bn up 27 from its 2003 performance while revenues grew 64 to 4209bn Our financial performance was strong meeting or exceeding all of our fullyear objectives and greatly enhancing our flexibility chairman and chief executive Richard Parsons said For 2005 TimeWarner is projecting operating earnings growth of around 5 and also expects higher revenue and wider profit margins  Time Warner is to restate its accounts as part of efforts to resolve an inquiry into AOL by US market regulators It has already offered to pay 300m to settle charges in a deal that is under review by the SEC The company said it was unable to estimate the amount it needed to set aside for legal reserves which it previously set at 500m It intends to adjust the way it accounts for a deal with German music publisher Bertelsmanns purchase of a stake in AOL Europe which it had reported as advertising revenue It will now book the sale of its stake in AOL Europe as a loss on the value of that stake     '"
      ]
     },
     "execution_count": 126,
     "metadata": {},
     "output_type": "execute_result"
    }
   ],
   "source": [
    "text_noSpecial_character"
   ]
  },
  {
   "cell_type": "code",
   "execution_count": 165,
   "metadata": {},
   "outputs": [
    {
     "data": {
      "text/plain": [
       "[['Quarterly',\n",
       "  'profit',\n",
       "  'US',\n",
       "  'medium',\n",
       "  'giant',\n",
       "  'TimeWarner',\n",
       "  'jumped',\n",
       "  '76%',\n",
       "  '$1.13bn',\n",
       "  '(£600m)',\n",
       "  'three',\n",
       "  'month',\n",
       "  'December,',\n",
       "  '$639m',\n",
       "  'year-earlier.'],\n",
       " ['firm,',\n",
       "  'one',\n",
       "  'biggest',\n",
       "  'investor',\n",
       "  'Google,',\n",
       "  'benefited',\n",
       "  'sale',\n",
       "  'high-speed',\n",
       "  'internet',\n",
       "  'connection',\n",
       "  'higher',\n",
       "  'advert',\n",
       "  'sales.'],\n",
       " ['TimeWarner',\n",
       "  'said',\n",
       "  'fourth',\n",
       "  'quarter',\n",
       "  'sale',\n",
       "  'rose',\n",
       "  '2%',\n",
       "  '$11.1bn',\n",
       "  '$10.9bn.'],\n",
       " ['profit',\n",
       "  'buoyed',\n",
       "  'one-off',\n",
       "  'gain',\n",
       "  'offset',\n",
       "  'profit',\n",
       "  'dip',\n",
       "  'Warner',\n",
       "  'Bros,',\n",
       "  'le',\n",
       "  'user',\n",
       "  'AOL.'],\n",
       " ['Time',\n",
       "  'Warner',\n",
       "  'said',\n",
       "  'Friday',\n",
       "  'owns',\n",
       "  '8%',\n",
       "  'search-engine',\n",
       "  'Google.'],\n",
       " ['internet', 'business,', 'AOL,', 'mixed', 'fortunes.'],\n",
       " ['lost',\n",
       "  '464,000',\n",
       "  'subscriber',\n",
       "  'fourth',\n",
       "  'quarter',\n",
       "  'profit',\n",
       "  'lower',\n",
       "  'preceding',\n",
       "  'three',\n",
       "  'quarters.'],\n",
       " ['However,',\n",
       "  'company',\n",
       "  'said',\n",
       "  \"AOL's\",\n",
       "  'underlying',\n",
       "  'profit',\n",
       "  'exceptional',\n",
       "  'item',\n",
       "  'rose',\n",
       "  '8%',\n",
       "  'back',\n",
       "  'stronger',\n",
       "  'internet',\n",
       "  'advertising',\n",
       "  'revenues.'],\n",
       " ['hope',\n",
       "  'increase',\n",
       "  'subscriber',\n",
       "  'offering',\n",
       "  'online',\n",
       "  'service',\n",
       "  'free',\n",
       "  'TimeWarner',\n",
       "  'internet',\n",
       "  'customer',\n",
       "  'try',\n",
       "  'sign',\n",
       "  \"AOL's\",\n",
       "  'existing',\n",
       "  'high-speed',\n",
       "  'broadband.'],\n",
       " ['TimeWarner',\n",
       "  'also',\n",
       "  'restate',\n",
       "  '2000',\n",
       "  '2003',\n",
       "  'result',\n",
       "  'following',\n",
       "  'probe',\n",
       "  'US',\n",
       "  'Securities',\n",
       "  'Exchange',\n",
       "  'Commission',\n",
       "  '(SEC),',\n",
       "  'close',\n",
       "  'concluding.'],\n",
       " ['Time',\n",
       "  \"Warner's\",\n",
       "  'fourth',\n",
       "  'quarter',\n",
       "  'profit',\n",
       "  'slightly',\n",
       "  'better',\n",
       "  \"analysts'\",\n",
       "  'expectations.'],\n",
       " ['film',\n",
       "  'division',\n",
       "  'saw',\n",
       "  'profit',\n",
       "  'slump',\n",
       "  '27%',\n",
       "  '$284m,',\n",
       "  'helped',\n",
       "  'box-office',\n",
       "  'flop',\n",
       "  'Alexander',\n",
       "  'Catwoman,',\n",
       "  'sharp',\n",
       "  'contrast',\n",
       "  'year-earlier,',\n",
       "  'third',\n",
       "  'final',\n",
       "  'Lord',\n",
       "  'Rings',\n",
       "  'trilogy',\n",
       "  'boosted',\n",
       "  'results.'],\n",
       " ['full-year,',\n",
       "  'TimeWarner',\n",
       "  'posted',\n",
       "  'profit',\n",
       "  '$3.36bn,',\n",
       "  '27%',\n",
       "  '2003',\n",
       "  'performance,',\n",
       "  'revenue',\n",
       "  'grew',\n",
       "  '6.4%',\n",
       "  '$42.09bn.'],\n",
       " ['\"Our',\n",
       "  'financial',\n",
       "  'performance',\n",
       "  'strong,',\n",
       "  'meeting',\n",
       "  'exceeding',\n",
       "  'full-year',\n",
       "  'objective',\n",
       "  'greatly',\n",
       "  'enhancing',\n",
       "  'flexibility,\"',\n",
       "  'chairman',\n",
       "  'chief',\n",
       "  'executive',\n",
       "  'Richard',\n",
       "  'Parsons',\n",
       "  'said.'],\n",
       " ['2005,',\n",
       "  'TimeWarner',\n",
       "  'projecting',\n",
       "  'operating',\n",
       "  'earnings',\n",
       "  'growth',\n",
       "  'around',\n",
       "  '5%,',\n",
       "  'also',\n",
       "  'expects',\n",
       "  'higher',\n",
       "  'revenue',\n",
       "  'wider',\n",
       "  'profit',\n",
       "  'margins.'],\n",
       " ['Time',\n",
       "  'Warner',\n",
       "  'restate',\n",
       "  'account',\n",
       "  'part',\n",
       "  'effort',\n",
       "  'resolve',\n",
       "  'inquiry',\n",
       "  'AOL',\n",
       "  'US',\n",
       "  'market',\n",
       "  'regulators.'],\n",
       " ['already',\n",
       "  'offered',\n",
       "  'pay',\n",
       "  '$300m',\n",
       "  'settle',\n",
       "  'charges,',\n",
       "  'deal',\n",
       "  'review',\n",
       "  'SEC.'],\n",
       " ['company',\n",
       "  'said',\n",
       "  'unable',\n",
       "  'estimate',\n",
       "  'amount',\n",
       "  'needed',\n",
       "  'set',\n",
       "  'aside',\n",
       "  'legal',\n",
       "  'reserves,',\n",
       "  'previously',\n",
       "  '$500m.'],\n",
       " ['intends',\n",
       "  'adjust',\n",
       "  'way',\n",
       "  'account',\n",
       "  'deal',\n",
       "  'German',\n",
       "  'music',\n",
       "  'publisher',\n",
       "  \"Bertelsmann's\",\n",
       "  'purchase',\n",
       "  'stake',\n",
       "  'AOL',\n",
       "  'Europe,',\n",
       "  'reported',\n",
       "  'advertising',\n",
       "  'revenue.'],\n",
       " ['book', 'sale', 'stake', 'AOL', 'Europe', 'loss', 'value', 'stake.']]"
      ]
     },
     "execution_count": 165,
     "metadata": {},
     "output_type": "execute_result"
    }
   ],
   "source": [
    "lemma_text"
   ]
  },
  {
   "cell_type": "code",
   "execution_count": null,
   "metadata": {},
   "outputs": [],
   "source": []
  },
  {
   "cell_type": "code",
   "execution_count": null,
   "metadata": {},
   "outputs": [],
   "source": []
  },
  {
   "cell_type": "code",
   "execution_count": null,
   "metadata": {},
   "outputs": [],
   "source": []
  },
  {
   "cell_type": "code",
   "execution_count": null,
   "metadata": {},
   "outputs": [],
   "source": [
    "    "
   ]
  },
  {
   "cell_type": "code",
   "execution_count": null,
   "metadata": {},
   "outputs": [],
   "source": []
  },
  {
   "cell_type": "code",
   "execution_count": null,
   "metadata": {},
   "outputs": [],
   "source": []
  },
  {
   "cell_type": "code",
   "execution_count": 216,
   "metadata": {},
   "outputs": [
    {
     "name": "stderr",
     "output_type": "stream",
     "text": [
      "C:\\Users\\Haider\\Anaconda3\\lib\\site-packages\\ipykernel_launcher.py:8: DeprecationWarning: Call to deprecated `__getitem__` (Method will be removed in 4.0.0, use self.wv.__getitem__() instead).\n",
      "  \n",
      "C:\\Users\\Haider\\Anaconda3\\lib\\site-packages\\ipykernel_launcher.py:10: DeprecationWarning: Call to deprecated `__getitem__` (Method will be removed in 4.0.0, use self.wv.__getitem__() instead).\n",
      "  # Remove the CWD from sys.path while we load stuff.\n"
     ]
    }
   ],
   "source": [
    "model = Word2Vec(lemma_text, min_count=1,sg=1)\n",
    "def vectorizer(sent,m):\n",
    "    vec=[]\n",
    "    numw=0\n",
    "    for w in sent:\n",
    "        try:\n",
    "            if numw==0:\n",
    "                vec=m[w]\n",
    "            else:\n",
    "                vec=np.add(vec,m[w])\n",
    "            numw+=1;\n",
    "        except:\n",
    "            pass\n",
    "    return np.asarray(vec)/numw\n",
    "    \n",
    "l=[]\n",
    "for i in lemma_text:\n",
    "    l.append(vectorizer(i,model))\n",
    "#     print(vectorizer(i,model))\n",
    "\n",
    "x= np.array(l)\n",
    "\n",
    "    \n",
    "    \n",
    "    \n",
    "    "
   ]
  },
  {
   "cell_type": "code",
   "execution_count": null,
   "metadata": {},
   "outputs": [],
   "source": []
  },
  {
   "cell_type": "code",
   "execution_count": null,
   "metadata": {},
   "outputs": [],
   "source": []
  },
  {
   "cell_type": "code",
   "execution_count": null,
   "metadata": {},
   "outputs": [],
   "source": []
  },
  {
   "cell_type": "code",
   "execution_count": null,
   "metadata": {},
   "outputs": [],
   "source": []
  },
  {
   "cell_type": "code",
   "execution_count": null,
   "metadata": {},
   "outputs": [],
   "source": []
  },
  {
   "cell_type": "code",
   "execution_count": null,
   "metadata": {},
   "outputs": [],
   "source": []
  },
  {
   "cell_type": "code",
   "execution_count": null,
   "metadata": {},
   "outputs": [],
   "source": []
  },
  {
   "cell_type": "code",
   "execution_count": null,
   "metadata": {},
   "outputs": [],
   "source": []
  },
  {
   "cell_type": "code",
   "execution_count": null,
   "metadata": {},
   "outputs": [],
   "source": []
  },
  {
   "cell_type": "code",
   "execution_count": 217,
   "metadata": {},
   "outputs": [
    {
     "data": {
      "text/plain": [
       "[<matplotlib.lines.Line2D at 0x1a0e4f3f278>]"
      ]
     },
     "execution_count": 217,
     "metadata": {},
     "output_type": "execute_result"
    },
    {
     "data": {
      "image/png": "[encoded data removed]",
      "text/plain": [
       "<Figure size 432x288 with 1 Axes>"
      ]
     },
     "metadata": {
      "needs_background": "light"
     },
     "output_type": "display_data"
    }
   ],
   "source": [
    "wcss=[]\n",
    "for i in range(1,7):\n",
    "    kmeans = KMeans(n_clusters=i,init='k-means++',random_state=42)\n",
    "    kmeans.fit(x)\n",
    "    wcss.append(kmeans.inertia_)\n",
    "plt.plot(range(1,7),wcss)"
   ]
  },
  {
   "cell_type": "code",
   "execution_count": null,
   "metadata": {},
   "outputs": [],
   "source": []
  },
  {
   "cell_type": "code",
   "execution_count": null,
   "metadata": {},
   "outputs": [],
   "source": []
  },
  {
   "cell_type": "code",
   "execution_count": null,
   "metadata": {},
   "outputs": [],
   "source": []
  },
  {
   "cell_type": "code",
   "execution_count": null,
   "metadata": {},
   "outputs": [],
   "source": []
  },
  {
   "cell_type": "code",
   "execution_count": null,
   "metadata": {},
   "outputs": [],
   "source": []
  },
  {
   "cell_type": "code",
   "execution_count": null,
   "metadata": {},
   "outputs": [],
   "source": []
  },
  {
   "cell_type": "code",
   "execution_count": null,
   "metadata": {},
   "outputs": [],
   "source": []
  },
  {
   "cell_type": "code",
   "execution_count": null,
   "metadata": {},
   "outputs": [],
   "source": []
  },
  {
   "cell_type": "code",
   "execution_count": null,
   "metadata": {},
   "outputs": [],
   "source": []
  },
  {
   "cell_type": "code",
   "execution_count": null,
   "metadata": {},
   "outputs": [],
   "source": []
  },
  {
   "cell_type": "code",
   "execution_count": 218,
   "metadata": {},
   "outputs": [
    {
     "name": "stdout",
     "output_type": "stream",
     "text": [
      "[0 0 0 0 0 1 0 0 0 0 0 0 0 0 0 0 0 0 0 0]\n",
      "<class 'numpy.ndarray'>\n",
      "0:['Quarterly', 'profit', 'US', 'medium', 'giant', 'TimeWarner', 'jumped', '76%', '$1.13bn', '(£600m)', 'three', 'month', 'December,', '$639m', 'year-earlier.']2.205928049286207\n",
      "0:['firm,', 'one', 'biggest', 'investor', 'Google,', 'benefited', 'sale', 'high-speed', 'internet', 'connection', 'higher', 'advert', 'sales.']1.1995376953711876\n",
      "0:['TimeWarner', 'said', 'fourth', 'quarter', 'sale', 'rose', '2%', '$11.1bn', '$10.9bn.']1.2078997982872857\n",
      "0:['profit', 'buoyed', 'one-off', 'gain', 'offset', 'profit', 'dip', 'Warner', 'Bros,', 'le', 'user', 'AOL.']0.2037549450993538\n",
      "0:['Time', 'Warner', 'said', 'Friday', 'owns', '8%', 'search-engine', 'Google.']1.2022868007421494\n",
      "0:['lost', '464,000', 'subscriber', 'fourth', 'quarter', 'profit', 'lower', 'preceding', 'three', 'quarters.']2.208130625039339\n",
      "0:['However,', 'company', 'said', \"AOL's\", 'underlying', 'profit', 'exceptional', 'item', 'rose', '8%', 'back', 'stronger', 'internet', 'advertising', 'revenues.']1.2122217482328415\n",
      "0:['hope', 'increase', 'subscriber', 'offering', 'online', 'service', 'free', 'TimeWarner', 'internet', 'customer', 'try', 'sign', \"AOL's\", 'existing', 'high-speed', 'broadband.']0.20612068064510822\n",
      "0:['TimeWarner', 'also', 'restate', '2000', '2003', 'result', 'following', 'probe', 'US', 'Securities', 'Exchange', 'Commission', '(SEC),', 'close', 'concluding.']2.211703961590926"
     ]
    },
    {
     "name": "stderr",
     "output_type": "stream",
     "text": [
      "C:\\Users\\Haider\\Anaconda3\\lib\\site-packages\\ipykernel_launcher.py:66: DeprecationWarning: Call to deprecated `similar_by_word` (Method will be removed in 4.0.0, use self.wv.similar_by_word() instead).\n"
     ]
    },
    {
     "name": "stdout",
     "output_type": "stream",
     "text": [
      "\n",
      "0:['Time', \"Warner's\", 'fourth', 'quarter', 'profit', 'slightly', 'better', \"analysts'\", 'expectations.']0.20576774809095597\n",
      "0:['film', 'division', 'saw', 'profit', 'slump', '27%', '$284m,', 'helped', 'box-office', 'flop', 'Alexander', 'Catwoman,', 'sharp', 'contrast', 'year-earlier,', 'third', 'final', 'Lord', 'Rings', 'trilogy', 'boosted', 'results.']1.2071339105340568\n",
      "0:['full-year,', 'TimeWarner', 'posted', 'profit', '$3.36bn,', '27%', '2003', 'performance,', 'revenue', 'grew', '6.4%', '$42.09bn.']3.213503002251188\n",
      "0:['\"Our', 'financial', 'performance', 'strong,', 'meeting', 'exceeding', 'full-year', 'objective', 'greatly', 'enhancing', 'flexibility,\"', 'chairman', 'chief', 'executive', 'Richard', 'Parsons', 'said.']0.19886950368390363\n",
      "0:['2005,', 'TimeWarner', 'projecting', 'operating', 'earnings', 'growth', 'around', '5%,', 'also', 'expects', 'higher', 'revenue', 'wider', 'profit', 'margins.']2.206644968390465\n",
      "0:['Time', 'Warner', 'restate', 'account', 'part', 'effort', 'resolve', 'inquiry', 'AOL', 'US', 'market', 'regulators.']0.19630528775354228\n",
      "0:['already', 'offered', 'pay', '$300m', 'settle', 'charges,', 'deal', 'review', 'SEC.']0.205150447289149\n",
      "0:['company', 'said', 'unable', 'estimate', 'amount', 'needed', 'set', 'aside', 'legal', 'reserves,', 'previously', '$500m.']0.21456680012245974\n",
      "0:['intends', 'adjust', 'way', 'account', 'deal', 'German', 'music', 'publisher', \"Bertelsmann's\", 'purchase', 'stake', 'AOL', 'Europe,', 'reported', 'advertising', 'revenue.']0.2132574649527669\n",
      "0:['book', 'sale', 'stake', 'AOL', 'Europe', 'loss', 'value', 'stake.']0.20858499743044376\n",
      "[[0, 2.205928049286207], [1, 1.1995376953711876], [2, 1.2078997982872857], [3, 0.2037549450993538], [4, 1.2022868007421494], [6, 2.208130625039339], [7, 1.2122217482328415], [8, 0.20612068064510822], [9, 2.211703961590926], [10, 0.20576774809095597], [11, 1.2071339105340568], [12, 3.213503002251188], [13, 0.19886950368390363], [14, 2.206644968390465], [15, 0.19630528775354228], [16, 0.205150447289149], [17, 0.21456680012245974], [18, 0.2132574649527669], [19, 0.20858499743044376]]\n"
     ]
    }
   ],
   "source": [
    "n_cluster=2\n",
    "kmeans= KMeans(n_clusters=n_cluster)\n",
    "labels=kmeans.fit_predict(x)\n",
    "print(labels)\n",
    "print(type(labels))\n",
    "labelList= labels.tolist()\n",
    "max = 0\n",
    "res = labelList[0] # cluster with maximum frequency\n",
    "for i in labelList: \n",
    "    freq = labelList.count(i) \n",
    "    if freq > max: \n",
    "        max = freq \n",
    "        res = i \n",
    "# print(res)        \n",
    "score=[]\n",
    "for index, sentence in enumerate(lemma_text):\n",
    "    i = lemma_text.index(sentence)\n",
    "    if labels[index] == res:  \n",
    "        meanScore= meanOfWord(model,sentence)\n",
    "        print(str(labels[index])+ \":\"+ str(sentence)+ str(meanScore) )\n",
    "        temp = [i,meanScore]\n",
    "        score.append(temp)\n",
    "#     print(meanOfWord(model,sentence))\n",
    "print(score)"
   ]
  },
  {
   "cell_type": "code",
   "execution_count": null,
   "metadata": {},
   "outputs": [],
   "source": []
  },
  {
   "cell_type": "code",
   "execution_count": null,
   "metadata": {},
   "outputs": [],
   "source": []
  },
  {
   "cell_type": "code",
   "execution_count": null,
   "metadata": {},
   "outputs": [],
   "source": []
  },
  {
   "cell_type": "code",
   "execution_count": null,
   "metadata": {},
   "outputs": [],
   "source": []
  },
  {
   "cell_type": "code",
   "execution_count": null,
   "metadata": {},
   "outputs": [],
   "source": []
  },
  {
   "cell_type": "code",
   "execution_count": null,
   "metadata": {},
   "outputs": [],
   "source": []
  },
  {
   "cell_type": "code",
   "execution_count": null,
   "metadata": {},
   "outputs": [],
   "source": []
  },
  {
   "cell_type": "code",
   "execution_count": null,
   "metadata": {},
   "outputs": [],
   "source": []
  },
  {
   "cell_type": "code",
   "execution_count": null,
   "metadata": {},
   "outputs": [],
   "source": []
  },
  {
   "cell_type": "code",
   "execution_count": null,
   "metadata": {},
   "outputs": [],
   "source": []
  },
  {
   "cell_type": "code",
   "execution_count": null,
   "metadata": {},
   "outputs": [],
   "source": []
  },
  {
   "cell_type": "code",
   "execution_count": null,
   "metadata": {},
   "outputs": [],
   "source": []
  },
  {
   "cell_type": "code",
   "execution_count": null,
   "metadata": {},
   "outputs": [],
   "source": []
  },
  {
   "cell_type": "code",
   "execution_count": 136,
   "metadata": {},
   "outputs": [
    {
     "data": {
      "text/plain": [
       "[('amazing', 'VBG'),\n",
       " ('interesting', 'VBG'),\n",
       " ('love', 'NN'),\n",
       " ('great', 'JJ'),\n",
       " ('nice', 'JJ'),\n",
       " ('Ha', 'NNP'),\n",
       " ('5', 'CD'),\n",
       " ('113bn', 'CD'),\n",
       " ('600m', 'CD'),\n",
       " ('Friday', 'NNP'),\n",
       " ('Time', 'NNP'),\n",
       " ('Google', 'NNP'),\n",
       " ('Warner', 'NNP')]"
      ]
     },
     "execution_count": 136,
     "metadata": {},
     "output_type": "execute_result"
    }
   ],
   "source": [
    "from nltk.corpus import wordnet as wn\n",
    "words = ['amazing', 'interesting', 'love', 'great', 'nice','Ha','5','113bn', '600m','Friday','Time','Google','Warner']\n",
    "\n",
    "# for w in words:\n",
    "#     tmp = wn.synsets(w)[0].pos()\n",
    "#     print( w, \":\", tmp)\n",
    "\n",
    "l=nltk.pos_tag(words)\n",
    "l\n",
    "v=['CD','NN','NNP','NNS','NNPS']\n",
    "for i in l:\n",
    "    if i[1] in v:\n",
    "        print(str(i[0])+' '+str(i[1]) )"
   ]
  },
  {
   "cell_type": "code",
   "execution_count": null,
   "metadata": {},
   "outputs": [],
   "source": []
  },
  {
   "cell_type": "code",
   "execution_count": null,
   "metadata": {},
   "outputs": [],
   "source": []
  },
  {
   "cell_type": "code",
   "execution_count": 210,
   "metadata": {},
   "outputs": [
    {
     "data": {
      "text/plain": [
       "[[0, 5.205928049286207],\n",
       " [1, 3.4495376953711876],\n",
       " [2, 2.4578997982872854],\n",
       " [3, 3.203754945099354],\n",
       " [4, 2.4522868007421494],\n",
       " [6, 3.208130625039339],\n",
       " [7, 3.2122217482328415],\n",
       " [8, 3.706120680645108],\n",
       " [9, 4.711703961590926],\n",
       " [10, 1.7057677480909559],\n",
       " [11, 5.207133910534057],\n",
       " [12, 4.963503002251188],\n",
       " [13, 3.1988695036839037],\n",
       " [14, 4.206644968390465],\n",
       " [15, 3.1963052877535425],\n",
       " [16, 1.705150447289149],\n",
       " [17, 1.7145668001224597],\n",
       " [18, 3.463257464952767],\n",
       " [19, 2.2085849974304437]]"
      ]
     },
     "execution_count": 210,
     "metadata": {},
     "output_type": "execute_result"
    }
   ],
   "source": [
    "score"
   ]
  },
  {
   "cell_type": "code",
   "execution_count": null,
   "metadata": {},
   "outputs": [],
   "source": []
  },
  {
   "cell_type": "code",
   "execution_count": null,
   "metadata": {},
   "outputs": [],
   "source": []
  },
  {
   "cell_type": "code",
   "execution_count": 219,
   "metadata": {},
   "outputs": [
    {
     "data": {
      "text/plain": [
       "[[12, 3.213503002251188],\n",
       " [9, 2.211703961590926],\n",
       " [6, 2.208130625039339],\n",
       " [14, 2.206644968390465],\n",
       " [0, 2.205928049286207],\n",
       " [7, 1.2122217482328415],\n",
       " [2, 1.2078997982872857],\n",
       " [11, 1.2071339105340568],\n",
       " [4, 1.2022868007421494],\n",
       " [1, 1.1995376953711876],\n",
       " [17, 0.21456680012245974],\n",
       " [18, 0.2132574649527669],\n",
       " [19, 0.20858499743044376],\n",
       " [8, 0.20612068064510822],\n",
       " [10, 0.20576774809095597],\n",
       " [16, 0.205150447289149],\n",
       " [3, 0.2037549450993538],\n",
       " [13, 0.19886950368390363],\n",
       " [15, 0.19630528775354228]]"
      ]
     },
     "execution_count": 219,
     "metadata": {},
     "output_type": "execute_result"
    }
   ],
   "source": [
    "score.sort(key=lambda x:x[1],reverse=True)\n",
    "score"
   ]
  },
  {
   "cell_type": "code",
   "execution_count": null,
   "metadata": {},
   "outputs": [],
   "source": []
  },
  {
   "cell_type": "code",
   "execution_count": 220,
   "metadata": {},
   "outputs": [
    {
     "name": "stdout",
     "output_type": "stream",
     "text": [
      "For the full-year, TimeWarner posted a profit of $3.36bn, up 27% from its 2003 performance, while revenues grew 6.4% to $42.09bn. TimeWarner also has to restate 2000 and 2003 results following a probe by the US Securities Exchange Commission (SEC), which is close to concluding. It lost 464,000 subscribers in the fourth quarter profits were lower than in the preceding three quarters. For 2005, TimeWarner is projecting operating earnings growth of around 5%, and also expects higher revenue and wider profit margins. Quarterly profits at US media giant TimeWarner jumped 76% to $1.13bn (£600m) for the three months to December, from $639m year-earlier. However, the company said AOL's underlying profit before exceptional items rose 8% on the back of stronger internet advertising revenues. TimeWarner said fourth quarter sales rose 2% to $11.1bn from $10.9bn. \n"
     ]
    }
   ],
   "source": [
    "originalSummary='TimeWarner said fourth quarter sales rose 2% to $11.1bn from $10.9bn. For the full-year, TimeWarner posted a profit of $3.36bn, up 27% from its 2003 performance, while revenues grew 6.4% to $42.09bn. Quarterly profits at US media giant TimeWarner jumped 76% to $1.13bn (£600m) for the three months to December, from $639m year-earlier. However, the company said AOL\\'s underlying profit before exceptional items rose 8% on the back of stronger internet advertising revenues. Its profits were buoyed by one-off gains which offset a profit dip at Warner Bros, and less users for AOL. For 2005, TimeWarner is projecting operating earnings growth of around 5%, and also expects higher revenue and wider profit margins. It lost 464,000 subscribers in the fourth quarter profits were lower than in the preceding three quarters. Time Warner\\'s fourth quarter profits were slightly better than analysts\\' expectations.'\n",
    "numOfSentence =round(len(sentences)/3)\n",
    "mySummary = ''\n",
    "for i in range (0, numOfSentence ):\n",
    "#     st.join(sentences[i])\n",
    "    mySummary=mySummary+sentences[score[i][0]]+' '\n",
    "print(mySummary)    "
   ]
  },
  {
   "cell_type": "code",
   "execution_count": null,
   "metadata": {},
   "outputs": [],
   "source": []
  },
  {
   "cell_type": "code",
   "execution_count": null,
   "metadata": {},
   "outputs": [],
   "source": []
  },
  {
   "cell_type": "code",
   "execution_count": 221,
   "metadata": {},
   "outputs": [
    {
     "name": "stdout",
     "output_type": "stream",
     "text": [
      "0.9491021885089994\n",
      "Cumulative 1-gram: 0.807445\n",
      "Cumulative 2-gram: 0.777825\n",
      "Cumulative 3-gram: 0.759415\n",
      "Cumulative 4-gram: 0.739719\n"
     ]
    }
   ],
   "source": [
    "checkSimilarity(originalSummary,mySummary)"
   ]
  },
  {
   "cell_type": "code",
   "execution_count": null,
   "metadata": {},
   "outputs": [],
   "source": []
  },
  {
   "cell_type": "code",
   "execution_count": null,
   "metadata": {},
   "outputs": [],
   "source": []
  },
  {
   "cell_type": "code",
   "execution_count": null,
   "metadata": {},
   "outputs": [],
   "source": []
  },
  {
   "cell_type": "code",
   "execution_count": null,
   "metadata": {},
   "outputs": [],
   "source": []
  },
  {
   "cell_type": "code",
   "execution_count": null,
   "metadata": {},
   "outputs": [],
   "source": []
  },
  {
   "cell_type": "code",
   "execution_count": null,
   "metadata": {},
   "outputs": [],
   "source": []
  },
  {
   "cell_type": "code",
   "execution_count": null,
   "metadata": {},
   "outputs": [],
   "source": []
  },
  {
   "cell_type": "code",
   "execution_count": null,
   "metadata": {},
   "outputs": [],
   "source": []
  },
  {
   "cell_type": "code",
   "execution_count": null,
   "metadata": {},
   "outputs": [],
   "source": []
  },
  {
   "cell_type": "code",
   "execution_count": null,
   "metadata": {},
   "outputs": [],
   "source": []
  },
  {
   "cell_type": "code",
   "execution_count": 59,
   "metadata": {},
   "outputs": [
    {
     "name": "stdout",
     "output_type": "stream",
     "text": [
      "1.0\n",
      "Cumulative 1-gram: 0.687943\n",
      "Cumulative 2-gram: 0.642469\n",
      "Cumulative 3-gram: 0.619733\n",
      "Cumulative 4-gram: 0.595549\n"
     ]
    }
   ],
   "source": [
    "checkSimilarity(mySummary,originalSummary)"
   ]
  },
  {
   "cell_type": "code",
   "execution_count": null,
   "metadata": {},
   "outputs": [],
   "source": []
  },
  {
   "cell_type": "code",
   "execution_count": null,
   "metadata": {},
   "outputs": [],
   "source": []
  },
  {
   "cell_type": "code",
   "execution_count": null,
   "metadata": {},
   "outputs": [],
   "source": []
  },
  {
   "cell_type": "code",
   "execution_count": null,
   "metadata": {},
   "outputs": [],
   "source": []
  },
  {
   "cell_type": "code",
   "execution_count": null,
   "metadata": {},
   "outputs": [],
   "source": []
  },
  {
   "cell_type": "code",
   "execution_count": null,
   "metadata": {},
   "outputs": [],
   "source": []
  },
  {
   "cell_type": "code",
   "execution_count": null,
   "metadata": {},
   "outputs": [],
   "source": []
  },
  {
   "cell_type": "code",
   "execution_count": null,
   "metadata": {},
   "outputs": [],
   "source": []
  },
  {
   "cell_type": "code",
   "execution_count": null,
   "metadata": {},
   "outputs": [],
   "source": []
  },
  {
   "cell_type": "code",
   "execution_count": null,
   "metadata": {},
   "outputs": [],
   "source": []
  },
  {
   "cell_type": "code",
   "execution_count": null,
   "metadata": {},
   "outputs": [],
   "source": []
  },
  {
   "cell_type": "code",
   "execution_count": null,
   "metadata": {},
   "outputs": [],
   "source": []
  },
  {
   "cell_type": "code",
   "execution_count": null,
   "metadata": {},
   "outputs": [],
   "source": []
  },
  {
   "cell_type": "code",
   "execution_count": null,
   "metadata": {},
   "outputs": [],
   "source": []
  },
  {
   "cell_type": "code",
   "execution_count": null,
   "metadata": {},
   "outputs": [],
   "source": []
  },
  {
   "cell_type": "code",
   "execution_count": null,
   "metadata": {},
   "outputs": [],
   "source": []
  },
  {
   "cell_type": "code",
   "execution_count": null,
   "metadata": {},
   "outputs": [],
   "source": []
  }
 ],
 "metadata": {
  "kernelspec": {
   "display_name": "Python 3",
   "language": "python",
   "name": "python3"
  },
  "language_info": {
   "codemirror_mode": {
    "name": "ipython",
    "version": 3
   },
   "file_extension": ".py",
   "mimetype": "text/x-python",
   "name": "python",
   "nbconvert_exporter": "python",
   "pygments_lexer": "ipython3",
   "version": "3.7.3"
  }
 },
 "nbformat": 4,
 "nbformat_minor": 2
}
